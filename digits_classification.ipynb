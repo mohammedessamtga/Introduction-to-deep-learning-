{
 "cells": [
  {
   "cell_type": "markdown",
   "metadata": {
    "slideshow": {
     "slide_type": "slide"
    }
   },
   "source": [
    "# MNIST digits classification with TensorFlow"
   ]
  },
  {
   "cell_type": "markdown",
   "metadata": {},
   "source": [
    "<img src=\"images/mnist_sample.png\" style=\"width:30%\">"
   ]
  },
  {
   "cell_type": "code",
   "execution_count": 300,
   "metadata": {},
   "outputs": [
    {
     "name": "stdout",
     "output_type": "stream",
     "text": [
      "We're using TF 1.2.1\n"
     ]
    }
   ],
   "source": [
    "import numpy as np\n",
    "from sklearn.metrics import accuracy_score\n",
    "from matplotlib import pyplot as plt\n",
    "%matplotlib inline\n",
    "import tensorflow as tf\n",
    "print(\"We're using TF\", tf.__version__)\n",
    "\n",
    "import sys\n",
    "sys.path.append(\"../..\")\n",
    "import grading\n",
    "\n",
    "import matplotlib_utils\n",
    "from importlib import reload\n",
    "reload(matplotlib_utils)\n",
    "\n",
    "import grading_utils\n",
    "reload(grading_utils)\n",
    "\n",
    "import keras_utils\n",
    "from keras_utils import reset_tf_session"
   ]
  },
  {
   "cell_type": "markdown",
   "metadata": {},
   "source": [
    "# Fill in your Coursera token and email\n",
    "To successfully submit your answers to our grader, please fill in your Coursera submission token and email"
   ]
  },
  {
   "cell_type": "code",
   "execution_count": 301,
   "metadata": {
    "collapsed": true
   },
   "outputs": [],
   "source": [
    "grader = grading.Grader(assignment_key=\"XtD7ho3TEeiHQBLWejjYAA\", \n",
    "                        all_parts=[\"9XaAS\", \"vmogZ\", \"RMv95\", \"i8bgs\", \"rE763\"])"
   ]
  },
  {
   "cell_type": "code",
   "execution_count": 302,
   "metadata": {
    "collapsed": true
   },
   "outputs": [],
   "source": [
    "# token expires every 30 min\n",
    "COURSERA_TOKEN = ############\n",
    "COURSERA_EMAIL = ############"
   ]
  },
  {
   "cell_type": "markdown",
   "metadata": {},
   "source": [
    "# Look at the data\n",
    "\n",
    "In this task we have 50000 28x28 images of digits from 0 to 9.\n",
    "We will train a classifier on this data."
   ]
  },
  {
   "cell_type": "code",
   "execution_count": 303,
   "metadata": {
    "collapsed": true
   },
   "outputs": [],
   "source": [
    "import preprocessed_mnist\n",
    "X_train, y_train, X_val, y_val, X_test, y_test = preprocessed_mnist.load_dataset()"
   ]
  },
  {
   "cell_type": "code",
   "execution_count": 304,
   "metadata": {},
   "outputs": [
    {
     "name": "stdout",
     "output_type": "stream",
     "text": [
      "X_train [shape (50000, 28, 28)] sample patch:\n",
      " [[ 0.          0.29803922  0.96470588  0.98823529  0.43921569]\n",
      " [ 0.          0.33333333  0.98823529  0.90196078  0.09803922]\n",
      " [ 0.          0.33333333  0.98823529  0.8745098   0.        ]\n",
      " [ 0.          0.33333333  0.98823529  0.56862745  0.        ]\n",
      " [ 0.          0.3372549   0.99215686  0.88235294  0.        ]]\n",
      "A closeup of a sample patch:\n"
     ]
    },
    {
     "data": {
      "image/png": "[encoded data removed]",
      "text/plain": [
       "<matplotlib.figure.Figure at 0x7fe5e82932b0>"
      ]
     },
     "metadata": {},
     "output_type": "display_data"
    },
    {
     "name": "stdout",
     "output_type": "stream",
     "text": [
      "And the whole sample:\n"
     ]
    },
    {
     "data": {
      "image/png": "[encoded data removed]",
      "text/plain": [
       "<matplotlib.figure.Figure at 0x7fe5e91fd470>"
      ]
     },
     "metadata": {},
     "output_type": "display_data"
    },
    {
     "name": "stdout",
     "output_type": "stream",
     "text": [
      "y_train [shape (50000,)] 10 samples:\n",
      " [5 0 4 1 9 2 1 3 1 4]\n"
     ]
    }
   ],
   "source": [
    "# X contains rgb values divided by 255\n",
    "print(\"X_train [shape %s] sample patch:\\n\" % (str(X_train.shape)), X_train[1, 15:20, 5:10])\n",
    "print(\"A closeup of a sample patch:\")\n",
    "plt.imshow(X_train[1, 15:20, 5:10], cmap=\"Greys\")\n",
    "plt.show()\n",
    "print(\"And the whole sample:\")\n",
    "plt.imshow(X_train[1], cmap=\"Greys\")\n",
    "plt.show()\n",
    "print(\"y_train [shape %s] 10 samples:\\n\" % (str(y_train.shape)), y_train[:10])"
   ]
  },
  {
   "cell_type": "markdown",
   "metadata": {},
   "source": [
    "# Linear model\n",
    "\n",
    "Your task is to train a linear classifier $\\vec{x} \\rightarrow y$ with SGD using TensorFlow.\n",
    "\n",
    "You will need to calculate a logit (a linear transformation) $z_k$ for each class: \n",
    "$$z_k = \\vec{x} \\cdot \\vec{w_k} + b_k \\quad k = 0..9$$\n",
    "\n",
    "And transform logits $z_k$ to valid probabilities $p_k$ with softmax: \n",
    "$$p_k = \\frac{e^{z_k}}{\\sum_{i=0}^{9}{e^{z_i}}} \\quad k = 0..9$$\n",
    "\n",
    "We will use a cross-entropy loss to train our multi-class classifier:\n",
    "$$\\text{cross-entropy}(y, p) = -\\sum_{k=0}^{9}{\\log(p_k)[y = k]}$$ \n",
    "\n",
    "where \n",
    "$$\n",
    "[x]=\\begin{cases}\n",
    "       1, \\quad \\text{if $x$ is true} \\\\\n",
    "       0, \\quad \\text{otherwise}\n",
    "    \\end{cases}\n",
    "$$\n",
    "\n",
    "Cross-entropy minimization pushes $p_k$ close to 1 when $y = k$, which is what we want.\n",
    "\n",
    "Here's the plan:\n",
    "* Flatten the images (28x28 -> 784) with `X_train.reshape((X_train.shape[0], -1))` to simplify our linear model implementation\n",
    "* Use a matrix placeholder for flattened `X_train`\n",
    "* Convert `y_train` to one-hot encoded vectors that are needed for cross-entropy\n",
    "* Use a shared variable `W` for all weights (a column $\\vec{w_k}$ per class) and `b` for all biases.\n",
    "* Aim for ~0.93 validation accuracy"
   ]
  },
  {
   "cell_type": "code",
   "execution_count": 305,
   "metadata": {},
   "outputs": [
    {
     "name": "stdout",
     "output_type": "stream",
     "text": [
      "(50000, 784)\n",
      "(10000, 784)\n"
     ]
    }
   ],
   "source": [
    "X_train_flat = X_train.reshape((X_train.shape[0], -1))\n",
    "print(X_train_flat.shape)\n",
    "\n",
    "X_val_flat = X_val.reshape((X_val.shape[0], -1))\n",
    "print(X_val_flat.shape)"
   ]
  },
  {
   "cell_type": "code",
   "execution_count": 306,
   "metadata": {},
   "outputs": [
    {
     "name": "stdout",
     "output_type": "stream",
     "text": [
      "(50000, 10)\n",
      "[[ 0.  0.  0.  0.  0.  1.  0.  0.  0.  0.]\n",
      " [ 1.  0.  0.  0.  0.  0.  0.  0.  0.  0.]\n",
      " [ 0.  0.  0.  0.  1.  0.  0.  0.  0.  0.]] [5 0 4]\n"
     ]
    }
   ],
   "source": [
    "import keras\n",
    "\n",
    "y_train_oh = keras.utils.to_categorical(y_train, 10)\n",
    "y_val_oh = keras.utils.to_categorical(y_val, 10)\n",
    "\n",
    "print(y_train_oh.shape)\n",
    "print(y_train_oh[:3], y_train[:3])"
   ]
  },
  {
   "cell_type": "code",
   "execution_count": 307,
   "metadata": {
    "collapsed": true
   },
   "outputs": [],
   "source": [
    "# run this again if you remake your graph\n",
    "s = reset_tf_session()\n"
   ]
  },
  {
   "cell_type": "code",
   "execution_count": 308,
   "metadata": {
    "collapsed": true
   },
   "outputs": [],
   "source": [
    "# Model parameters: W and b\n",
    "W =tf.get_variable(\"W\",shape=(784,10),dtype=tf.float32)                        ### tf.get_variable(...) with shape[0] = 784\n",
    "b =tf.get_variable(\"b\", shape=(10,),dtype=tf.float32)                        ### tf.get_variable(...)"
   ]
  },
  {
   "cell_type": "code",
   "execution_count": 309,
   "metadata": {
    "collapsed": true
   },
   "outputs": [],
   "source": [
    "# Placeholders for the input data\n",
    "input_X = tf.placeholder('float32',shape=(None,784)) ### tf.placeholder(...) for flat X with shape[0] = None for any batch size\n",
    "input_y = tf.placeholder('float32',shape=(None,10))### tf.placeholder(...) for one-hot encoded true labels"
   ]
  },
  {
   "cell_type": "code",
   "execution_count": 310,
   "metadata": {
    "collapsed": true
   },
   "outputs": [],
   "source": [
    "# Compute predictions\n",
    "logits =input_X@W+b### logits for input_X, resulting shape should be [input_X.shape[0], 10]\n",
    "probas = tf.nn.softmax(logits)### YOUR CODE HERE ### apply tf.nn.softmax to logits\n",
    "classes = tf.argmax(probas,1)### YOUR CODE HERE ### apply tf.argmax to find a class index with highest probability\n",
    "\n",
    "# Loss should be a scalar number: average loss over all the objects with tf.reduce_mean().\n",
    "# Use tf.nn.softmax_cross_entropy_with_logits on top of one-hot encoded input_y and logits.\n",
    "# It is identical to calculating cross-entropy on top of probas, but is more numerically friendly (read the docs).\n",
    "loss = tf.reduce_mean(tf.nn.softmax_cross_entropy_with_logits(logits=logits, labels=input_y))  ### cross-entropy loss\n",
    "\n",
    "# Use a default tf.train.AdamOptimizer to get an SGD step\n",
    "step = tf.train.AdamOptimizer().minimize(loss) ### optimizer step that minimizes the loss"
   ]
  },
  {
   "cell_type": "code",
   "execution_count": 311,
   "metadata": {
    "scrolled": false
   },
   "outputs": [
    {
     "data": {
      "text/html": [
       "<img src=\"data:image/jpeg;base64,/9j/4AAQSkZJRgABAQAAAQABAAD/2wBDAAIBAQEBAQIBAQECAgICAgQDAgICAgUEBAMEBgUGBgYFBgYGBwkIBgcJBwYGCAsICQoKCgoKBggLDAsKDAkKCgr/2wBDAQICAgICAgUDAwUKBwYHCgoKCgoKCgoKCgoKCgoKCgoKCgoKCgoKCgoKCgoKCgoKCgoKCgoKCgoKCgoKCgoKCgr/wAARCAEgA2ADASIAAhEBAxEB/8QAHwAAAQUBAQEBAQEAAAAAAAAAAAECAwQFBgcICQoL/8QAtRAAAgEDAwIEAwUFBAQAAAF9AQIDAAQRBRIhMUEGE1FhByJxFDKBkaEII0KxwRVS0fAkM2JyggkKFhcYGRolJicoKSo0NTY3ODk6Q0RFRkdISUpTVFVWV1hZWmNkZWZnaGlqc3R1dnd4eXqDhIWGh4iJipKTlJWWl5iZmqKjpKWmp6ipqrKztLW2t7i5usLDxMXGx8jJytLT1NXW19jZ2uHi4%2BTl5ufo6erx8vP09fb3%2BPn6/8QAHwEAAwEBAQEBAQEBAQAAAAAAAAECAwQFBgcICQoL/8QAtREAAgECBAQDBAcFBAQAAQJ3AAECAxEEBSExBhJBUQdhcRMiMoEIFEKRobHBCSMzUvAVYnLRChYkNOEl8RcYGRomJygpKjU2Nzg5OkNERUZHSElKU1RVVldYWVpjZGVmZ2hpanN0dXZ3eHl6goOEhYaHiImKkpOUlZaXmJmaoqOkpaanqKmqsrO0tba3uLm6wsPExcbHyMnK0tPU1dbX2Nna4uPk5ebn6Onq8vP09fb3%2BPn6/9oADAMBAAIRAxEAPwD9/KKKKACiiigAooooAKKKKACiiigAooooAKKKKACiiigAooooAKKKKACiiigAooooAKKKKACiiigAooooAKKKKACiiigAooooAKKKKACiiigAooooAKKKKACiiigAooooAKKKKACiiigAooooAKKKKACiiigAooooAKKKKACiiigAooooAKKKKACiiigAooooAKKKKACiiigAooooAKKKKACiiigAooooAKKKKACiiigAooooAKKKKACiiigAooooAKKKKACiiigAooooAKKKKACiiigAooooAKKKKACiiigAooooAKKKKACiiigAooooAKKKKACiiigAooooAKKKKACiiigAooooAKKKKACvPfjt%2B1J8FP2b5NGsfil4g1Maj4ilnTQNB8OeF9R1zVNR8lVed4bHTbee5kjiVkMkixlI96biu5c%2BhV4N%2B0P8D/j5/wANJ%2BDv2tv2bLLwfrWueH/B2seFNX8KeOdcutLtLywv7mwuxcQXtraXj288U2noCpt3WVJSCUKK1ABpf/BTL9izWLvxPb2nxXv0h8FWsk/jLUrvwXrEFjoIS0iu9l5dy2iwWsrQzRskMjrJIWKorMrKL2n/APBQ/wDZK1HwBrXxFTx/q9vB4f1ay0vVdE1DwNrNrrkV5ebfscC6PNaLqEr3AYGER27eaAxTcFYjy2b9gH4y%2BMf2a/jn8NfGHinwppHin4o/FS38daHc6U1xeWFpeW0OiywQ3IkihkkiN3pRRwoyYHGDuJVaPi79i/8AaV%2BLmr/Ef45fG34S/CjWvFnjWx8KaPp/gKy%2BI2s2Wm6fY6Hcaldw3qa7b6al5DqDXOqTOksVoPJSKNFZiWcgHsviH9vv9mzwv4a8OeI9XvvG3meK0v5NE8P2vwm8SXGuSRWUscV3NJpMWntf28MLzQq8s0CIpmiy37xM%2Bmaz8RPBHhv4e3XxX8T%2BJbbSvDljo76rf6vqrfZYbSySIzPPMZdvlKsYLNvxtAOcYNfGHin9hH9s/WPgX4X8Nay3hfxV470a58RHRfGV/wDHbxNpGr%2BCLW%2BuUktLO11q1sJLzXIYkjhEy3qw/aTbReYCFGPUfjR/wTotfj1%2Bzb4n%2BHHxD%2BOfjW78d%2BMPhfH4Z17xS3jbWho818tpDE2oJoS3y2FuzzQLK3kRRSEPIBIrSM5AOkg/4KUfsZf8K58V/FbWPite6Jo3giysr7xQ/ifwdq%2Bk3NlZXkxhtb37LeWsVxJaSyK6pcxxtC3luQ%2BEYjj/AI3f8FZP2d/hn8ENU%2BMfgPRfFXiqbQfiD4X8L674Y/4QXXbHU7A6zqVrax3T2cmnNdeV5Fw88DeT5d48aW8MhknjB8r1T/gmJ8ZPHfwq8faR4i8DeG9G8Y%2BI9D0fR7DxDqv7RfjPxut3aWusW%2BoTRyf27AfsEZ8likUSzHe%2BGkxknv8A9qH9gz40/GD4g/F/4g%2BBfEPheOTxfB8LbzwlZ6tfXMSvf%2BE/EdzrUsN40dvJ5ENwGt4VljEzrl2MfyKrgHqFh/wUE/Zb1H4m2XwZh8T%2BJo/Fd5oun6xLoF38N9egudO0%2B9adILu/SSyU6dDut5VeS68pYiFEhQum6j4a/wCCmH7FPi3wZ4s%2BIWkfGC4TR/Bfgi68Zaxe6h4S1W0Fx4et0Z5tWsVntUbVLNVQ4nsxPGxZArEugbB0P9kP4ofEP4mfG74g/G9fD2gxfGj4O%2BHfCF1Y%2BE9duNRl0u4tE11Ltlnns7XzYwNViMT7FZikm6OPA3fN37Y37Kn7UOj/ALDHxS%2BJv7TF34AtIfhD%2BxT8QfBHhePwFqF5cNrzXukWxn1G6W5toBYqE0i3CWcbXAVppCZ22oKAPrPw9/wUl/Yy8TaHrHiPT/i1dQWehppU1/JqnhLVbJmtNSu1s7HUIUuLVGubCWdgovoQ9qoDO0qorMPT9E%2BLvw88R/FLX/gvofiH7T4k8LaXp%2Boa/YR2k22zgvmuBa7pinlF3%2ByzHy1cyKoRmVVkjLfJOofsz%2BIPFegeKfjb/wAFIvF/wz8J%2BBbf9nu5%2BHUlx4f8QTLay6beyQyXmq3k17BbpYOTBbCG2QzCAmT/AEiQsuOw/wCCPngP4u2f7I9r8f8A9pDUDf8AxJ%2BL15H4n8V6g9nJbtJCLSCy01fKl%2BeH/iX2lpI0TYKSzTZAYtkA%2BqqKKKACiiigAooooAKKKKACiiigAooooAKKKKACiiigAooooAKKKKACiiigAooooAKKKKACiiigAooooAKKKKACiiigAooooAK8R0j/AIKMfse6ld69Z6n8Urzw83hzw5c%2BINQk8a%2BEdV0GObSbd0jnv7WTUrWBb63R5IlaW2MqAyxjOXXPtN7FczWcsNndCCZ4mWKYx7/LYjhtp64POO9fmJq//BHL9uX4v6t4X1z43fHHQ31vw14P1Cz1DxRqHxW8TeJx4h1v7ZpV9a6idLvoobLSbaS50xfPsLIBRHJtWWQKgUA%2B2X/b/wD2YbX4aN8WNY8QeKtK0ttcg0axs9c%2BGWv2GqanfzIZIYLLTbixS9v2kQM6/Z4ZAyo7AkIxHReA/wBqz4H/ABH1%2By8J%2BHPEOqQ6vf8AhSfxJDpGteFdS0y7TTYbv7JLLLDeW8UkDrP8hhkVZe%2BzbzXk3xO%2BDn7bvxib4e/G3XPBvwq0P4h/Cjx1NrHh/wAM2vjjUr/Rdcs7jSbvTLmO4vn0qGaxmKXskkbpa3AjMQU%2BYJGxV%2BJPwG/bg1/4y%2BHf2mvA%2BjfCu08WX3ww1XwX4x0LUvFepSWGkLcX8N1a39lcJpwk1AxCN1kt5YrQSlxiWLHIB3Gk/wDBRv8AZA8R694F8LeFfiNqus6n8SfBuleLfBunaJ4H1m9nvND1F9lrqMiQWjNa2%2B7HmSTiNbcMpm8oMCdj4a/tufs3fFf4jXPwn8M%2BL9Ws9ft9LudThsvE/gzVtEW/sbeRI57uyl1G1gjv4I3liDy2zSIvmISQGUnyj9hT9hL4sfsw6/8ADjWfHniDw1dnwd%2Byl4R%2BGN%2B%2BkXM8rNq2lvM1zNF5kEe61bemxmKu235o0wK8a%2BGn/BKv9sbxP8UfC/ib9qb4w2eqRaf4A8V%2BF/GniaD4v%2BJNavPEUur2KW39p2umX0Men6EcqWNpaKUXKgTOI1WgD6l8J/8ABRf9kfxrosfirQfHeuf2Hcarpen6f4lvfh/rdrpWoy6lex2VlJaX09mlteQS3M0UYuIJHhBlQs4VgT6X4W%2BLvw88a/EDxT8LvC/iH7XrnguSzj8T2iWkwWxkuoPtEEZlZBG7tCVkKIzMiyRlgokTd8w%2BOPAnxF8K/wDBPbxp8CP%2BChnif4VeCPAWg/DSLQLb4meHfFt2GadI0trXUntLqzgTTZlmFvJDBHcXTGcoiOTtDdr/AMEr/h98WPDf7ImlfFX9oqwS3%2BJ3xYvpfHXxEhW3aL7Pf36xmG02N8yfZbGOys9pyQLXBoA%2BjaKKKACiiigAooooAKKKKACiiigAooooAKKKKACiiigAooooAKKKKACiiigAooooAKKKKACiiigAooooAKKKKACiiigAooooAKKKKACvF/j14/8A2i/%2BGi/AvwI%2BAvjPwV4fTX/BXiXXtX1Pxf4Lu9aJOnXeh28MMMdvqVj5Yb%2B1JWZmZ8%2BWgAXkn2ivCviLrSWX/BSr4Q6LIoxe/BP4hsjZ53R6t4NOPyZj%2BFJtLcuEJVHaPZv7tWX/APhB/wDgoX/0dB8Gf/DD6t/81FH/AAg//BQv/o6D4M/%2BGH1b/wCaivZqKZB4z/wg/wDwUL/6Og%2BDP/hh9W/%2Baij/AIQf/goX/wBHQfBn/wAMPq3/AM1FezUUAeM/8IP/AMFC/wDo6D4M/wDhh9W/%2Baij/hB/%2BChf/R0HwZ/8MPq3/wA1FezUUAeM/wDCD/8ABQv/AKOg%2BDP/AIYfVv8A5qKP%2BEH/AOChf/R0HwZ/8MPq3/zUV7NRQB4z/wAIP/wUL/6Og%2BDP/hh9W/8Amoo/4Qf/AIKF/wDR0HwZ/wDDD6t/81FezUUAeM/8IP8A8FC/%2BjoPgz/4YfVv/moo/wCEH/4KF/8AR0HwZ/8ADD6t/wDNRXs1FAHjP/CD/wDBQv8A6Og%2BDP8A4YfVv/moo/4Qf/goX/0dB8Gf/DD6t/8ANRXs1FAHjP8Awg//AAUL/wCjoPgz/wCGH1b/AOaij/hB/wDgoX/0dB8Gf/DD6t/81FeneK7aC/udJ028iWW3uNTK3ELjKyKLeZwGHcblU4PpXlP/AA1//wAE4P8Ao6L4I/8AhbaP/wDHayq4ihQt7Wajfu0vzaPQwOU5tmnN9Sw1Sty2v7OnUqWvtfkhO17O17Xs7Xsyx/wg/wDwUL/6Og%2BDP/hh9W/%2Baij/AIQf/goX/wBHQfBn/wAMPq3/AM1FV/8Ahr//AIJwf9HRfBH/AMLbR/8A47Wt4G/aB/Ya%2BKHim18DfDT43fCfxFrd9v8AsWj6F4l0y7urjYjSPsiikZ32ojOcA4VSTwDWccbgpyUY1Ytv%2B9H/AOSOytwxxPh6UqtXAV4xim23QrpJLVtt0Ukkt22kurRR/wCEH/4KF/8AR0HwZ/8ADD6t/wDNRR/wg/8AwUL/AOjoPgz/AOGH1b/5qKk/av8AjT8HP2R/hzpfxK8afCe71e01Pxnovh1Lbw34Sm1G4STUb6K0WXybWCWRlTzd20LmRgsSZkkjVszSf2s/2P8AxBq/inQfDfhrX9UvPBIiXxTb6V8G9dunsJ5Es3W0YRae2678u/tZDarunWN2cxhYpGTpPDL/APwg/wDwUL/6Og%2BDP/hh9W/%2Baij/AIQf/goX/wBHQfBn/wAMPq3/AM1FYWv/ALZX7G3hzQbP4h6pqWgWnhN/BPijxNqmpah4dvoL2wtdAubO21ESWRsd8bW8l0UmimaK4jkRUWGX96Yer%2BGHx0/ZP%2BL0F9J4SudNtpdO16HRruw8S%2BF59Fu1vpoUngiFvqEEEr%2BbE6vEyoVlUkoWAOACj/wg/wDwUL/6Og%2BDP/hh9W/%2Baij/AIQf/goX/wBHQfBn/wAMPq3/AM1Fct%2B1j%2B0na/s%2BeIrvw58O/wBmTRfGcvhzwBf%2BN/Gon1WPTWsNFtZFQi1H2WYXd7Li4MUDmCM/Zn3zx5Td6V8QINak8Cad4m/Z4%2BCngrxZe6nLDJDD4j1o6NZrZvG0nnmeKxu5M8IAghJJkGSoBNAHPf8ACD/8FC/%2BjoPgz/4YfVv/AJqKP%2BEH/wCChf8A0dB8Gf8Aww%2Brf/NRXiUv/BRXwhq2ofBrSPDfwT%2BFOkXHxa8M6xqccnxI%2BJkWh28Vxp%2BoWFg1nYSx6bcjU5JpLxpISoi8yKIOB8%2BF73wp%2B1B4b8YftyeK/wBj6w%2BGvwms08I3dtFdNqnxCSHxJqEc2k2%2BofabTRRpzedAjXCwtIbpQNkjfwhCAdh/wg//AAUL/wCjoPgz/wCGH1b/AOaij/hB/wDgoX/0dB8Gf/DD6t/81FeR%2BO/%2BCg/w98Mt%2B0Tqnhz9mfTdV0P4FfCe78ZaZrcmoxQR%2BLZbQapHd2sSi2c20Ud1pU1t9pJk3OspEWxEaXrbb9omK8/Zbuv2kbTw1%2BzXNaWWrNHd6zD8cQ3ha3sVwjTya1/YuEmExEZhNvt5U%2Bbk7aAOv/4Qf/goX/0dB8Gf/DD6t/8ANRR/wg//AAUL/wCjoPgz/wCGH1b/AOaivP7D9rWfXPAPwL%2BLOh/sl6EPDXxe1mz0zV7nUtdW3udDlulcwSW8IsXGoQv5bOsjPbbomjcDL7BJefth%2BDNN/aGl%2BGWqfAbwxa%2BEIvinB8Of%2BEnuNdiXU28QTaVHqUQXTPsmDassiRCX7T5pZt/keV%2B9oA7z/hB/%2BChf/R0HwZ/8MPq3/wA1FH/CD/8ABQv/AKOg%2BDP/AIYfVv8A5qK8x/Z3/bStP2hH07TdL/Zl8H2Wq%2BOPhTcfEH4U6SPF0c02q6XHNbweXqg%2BwL/ZNx5l7ZqyJ9rVTJMu9mgZTv8Ahf8Aar8K6n%2Bxbpv7T/iH9nnRrfxNrNzcaXo/gDS9Qju/t%2BtJez2cVnDdvaxFo3kgaRp2gURQrJK6BYmNAHX/APCD/wDBQv8A6Og%2BDP8A4YfVv/moo/4Qf/goX/0dB8Gf/DD6t/8ANRXz98UP%2BCongL4c/DX4W/EJ/wBmnwikvxI%2BE%2Bm%2BN7fRNd8YRafd6i92tuRoehKbCT%2B29VBnUC2/0bd5kB3L5vye9WHxKu1/bPuP2XvEf7O/hmz0K58DXHiPw34uttZWe5vhb3FjbzwzWJs1W2AkvcI4uJCwhJKJuFAE/wDwg/8AwUL/AOjoPgz/AOGH1b/5qKP%2BEH/4KF/9HQfBn/ww%2Brf/ADUV5L4o/bF%2BIfwr134raL8Xv2L/AAIF%2BFnw3sfFN/d%2BCfHU2qxvJeXNzFb2k/2jRbT7OBHZz3E0q%2Bb5MKq5Rt65z5v2%2B5tU/Yt%2BIv7XHw3/AGXvhv4vj%2BGetXsOqv4c%2BJCXOgazp1pp0V9cX2laumlk3oQy/ZShtowLqC4jLgRFyAe1f8IP/wAFC/8Ao6D4M/8Ahh9W/wDmoqh4H8cftWeDv2rPDnwR%2BN3xH%2BHvibRvE3w98Q65DN4V%2BHl9ot1aXWm32iW6Kz3Gr3ySxumqSkqERg0SENjIPqHizwn4W03wtqWpab4csba5trGWW3uLe0RHjdULKysoBBBArz7xx/ykL%2BF//ZGfHn/p28IUAezUUUUAFFFFABRRRQAV84/CbxV%2B3f8AHXR9e8d%2BF/jf8JNA0u3%2BIXirQ9L0q/8Ag/ql/cRWul69f6ZC0twniKBZZHjs1dmWKNdzkBQAK%2Bjq8Z/YP/5Ihrn/AGWb4j/%2BprrdAB/wg/8AwUL/AOjoPgz/AOGH1b/5qKP%2BEH/4KF/9HQfBn/ww%2Brf/ADUV7NRQB4z/AMIP/wAFC/8Ao6D4M/8Ahh9W/wDmoo/4Qf8A4KF/9HQfBn/ww%2Brf/NRXs1FAHjP/AAg//BQv/o6D4M/%2BGH1b/wCaij/hB/8AgoX/ANHQfBn/AMMPq3/zUV7NRQB4z/wg/wDwUL/6Og%2BDP/hh9W/%2Baij/AIQf/goX/wBHQfBn/wAMPq3/AM1FezUUAeM/8IP/AMFC/wDo6D4M/wDhh9W/%2Baij/hB/%2BChf/R0HwZ/8MPq3/wA1FezUUAeM/wDCD/8ABQv/AKOg%2BDP/AIYfVv8A5qKP%2BEH/AOChf/R0HwZ/8MPq3/zUV7NRQB4z/wAIP/wUL/6Og%2BDP/hh9W/8Amoo/4Qf/AIKF/wDR0HwZ/wDDD6t/81FezUUAeM/8IP8A8FC/%2BjoPgz/4YfVv/moo/wCEH/4KF/8AR0HwZ/8ADD6t/wDNRXs1FAHjP/CD/wDBQv8A6Og%2BDP8A4YfVv/moo/4Qf/goX/0dB8Gf/DD6t/8ANRXs1FAHjP8Awg//AAUL/wCjoPgz/wCGH1b/AOaij/hB/wDgoX/0dB8Gf/DD6t/81FezUUAeM/8ACD/8FC/%2BjoPgz/4YfVv/AJqKP%2BEH/wCChf8A0dB8Gf8Aww%2Brf/NRXs1FAHjP/CD/APBQv/o6D4M/%2BGH1b/5qKP8AhB/%2BChf/AEdB8Gf/AAw%2Brf8AzUV7NRQB4z/wg/8AwUL/AOjoPgz/AOGH1b/5qKP%2BEH/4KF/9HQfBn/ww%2Brf/ADUV7NRQB4z/AMIP/wAFC/8Ao6D4M/8Ahh9W/wDmoo/4Qf8A4KF/9HQfBn/ww%2Brf/NRXsF3qOn6eN1/fwwAjgzShf5msu7%2BI/wAPLDP27x7osOOvm6pCv82qXOEd3YmU4R%2BJpfNf5nmf/CD/APBQv/o6D4M/%2BGH1b/5qKP8AhB/%2BChf/AEdB8Gf/AAw%2Brf8AzUV3N38fPgVYZ%2B3fGnwlDjr5viO1X%2BclYXiH9s39kHwnAbnxN%2B1R8ObBB3u/G1ghPsAZck%2BwrKWKwsFeVSK9ZR/zMJ4zB01eVWK9ZRX5yRh/8IP/AMFC/wDo6D4M/wDhh9W/%2Baij/hB/%2BChf/R0HwZ/8MPq3/wA1FYd5/wAFV/8AgnTYXLWs/wC194NZkOCYdQMi/gyKQfwNY3ij/gsl/wAE0fCVt9q1H9qzRrjI%2BWPS9OvbxyfTEED4/HFcss3ymCu8RD/wOP8Amccs9ySCvLFU/wDwZD/5I7X/AIQf/goX/wBHQfBn/wAMPq3/AM1FH/CD/wDBQv8A6Og%2BDP8A4YfVv/morwTVv%2BDhT/gnPptw8Ft4g8X3oQ4Elt4VkVW%2Bnmsh/MCue1v/AIORf2DNNT/iV%2BCfiXqTkfKLfQLNFz7mW8XH5GuSXE3D0N8VD7/8kzvoVnirfV6dSpfbko1539OTDzv8rn05/wAIP/wUL/6Og%2BDP/hh9W/8Amoo/4Qf/AIKF/wDR0HwZ/wDDD6t/81FfIcX/AAcffCbxFO0Hw6/ZC%2BIuttnCqj24J/CIy/1pdS/4Li/tVa5Ht%2BGX/BJn4i3e8Zjubt75x/3xDpxz/wB9Vj/rZkDV4Veb/DGcvygel/ZefOSisuxV3/1C4iP/AKXTpfi0fXf/AAg//BQv/o6D4M/%2BGH1b/wCairf7K3xG%2BNPjDWPih4E%2BOmv%2BF9W1TwD8QotDs9V8J%2BGrnSbe6tZdB0fU1Z7e4vbxlkWTUZULCXaVjQ7VOc/E1j/wVg/4K56xKTpv/BJzXkRj8n2rw3rEfH1eNQfrX0N/wSm%2BJfxk%2BMOkfG34jftAfClvBHi7UfjNH/a3hd0kU2Xl%2BFfDsUXEnzDfCkcnP/PSuvL86wWZVXToqd0r%2B9CcV98klfyFiMtzjAq%2BMwlWin1nGKV%2B2lao7/Jeq2Pq6iiivXOQKKKKACiiigAooooAKKKKACiiigAooooAKKKKACiiigAooooAKK5r4xSfE2H4ZaxP8HNa0HTvEsVrv0y98TaVNfWMRVgXMsEE9vJKPLD4VZY/mK5bGa4r4CfFH4wftDfsR/D/AONfh%2B58NaP418cfDjRNcaW80q4uNLs7y8soLiU/ZluEmkiUyPtj89WICgydWoA9ar5d/aE1n%2By/%2BCs/7M9jvx/aPwx%2BJlvj1xJ4Ylx/5C/SvQf2NPjd8Rfjb4U8XyfEW68P6pL4V8fX3h3T/FvhPTZ7PTPEcVtFAZbq3gnnuHiEVzJc2Tr58oM1hKVbBCj5z/ah%2BOHwt8Sf8Ftf2TPAvgr4m%2BH9X1fQtE%2BJVh4q0jStaguLrSJJtP0loY7qKNy8DO0LbRIFJ2NjODXLjJ%2Bzoc3nH8ZRX6nu8OYb63mnsu9Os/8AwGhWl/7afdtFFFdR4QUUUUAFFFFABRRRQAUUUUAFFFFABRRRQBl%2BIP8AkLaH/wBhV/8A0kuK86/4YH/YV/6Ms%2BEv/hudM/8AjFei%2BIP%2BQtof/YVf/wBJLivl/wD4fm/8Esv%2Bjov/ACydc/8AkKvPx1fKqPL9dlBXvbn5fnbmT8r2KjxTV4a%2BDHyw3tO1adLm5e/LUp81r9b2v0vr63/wwP8AsK/9GWfCX/w3Omf/ABitbwN%2ByL%2Byh8L/ABTa%2BOfhp%2BzD8PPDut2O/wCxaxoXgqwtLq33o0b7JYoldNyOyHBGVYg8E14d/wAPzf8Agll/0dF/5ZOuf/IVdb8DP%2BCrX7A37SnxT0v4KfBT49f214m1rz/7M0z/AIRbVbbzvJgknk/eT2qRriKKRvmYZ24GSQDx0cZw1KrGNKdHmbVrezvfpayvftbUp%2BJGIxy%2BrPOp1FP3eV4qpJSvpy8rrtSvtZpp7WZ6F%2B1L8DNW/aE%2BFcPgjw540t/D2rad4r0LxFourXukNf28V5pWq2upQrNbrNA00TvaiN1WWNtrkq6kA15d45/YA1/x18HfiD8PNT%2BL%2BkSaj4/%2BJ2n%2BNNRkvPBjzaPPJbw6XHLp13p5vQ95ZTf2cd8RuEJScIWbYS/tPxi%2BMvhj4H6JpHiTxjYX8lhq3irS9AN3ZRIyWVxqF1HZ20s251KxG4mhiLLuIMynbt3EeIfG7/gq9%2Bzf8Afh%2BPi34/0fWIPCw8Sa/pEmuT6zoVkpOjXbWt7cQQXupQXF9GJY5wiWkU87iBisXzxeZ7hmcBpX/BHKDTfgnf8Awdh%2BOelWcd/4K%2BJWgD%2Bw/h5HYWNn/wAJdqNhelrazju9sMFmbIxJAGPmLIMuhQl/pHwz8CfEXgz45%2BN/jR4d8d2X/FcXWim%2B0y90N5Ps9vY28kLxxyLcJ%2B8l3hhIVIj24KSZyPLrv9vq38HfGjxl4P8Aijfadpnh3w78Y7jwvY6laaO8%2B7TIPh1Z%2BLJ57mU3S%2BUyvLdYljilDRxxReSGZrhbPwL/AG8fEPxh/aC8ReAfEHwJ8W%2BDvD2mfDfw34j0u18QeHxPq922q6jqFsk2zTrm7T7OUtoTsZUmgImacRqPlANf9rL9jPxb%2B0H4ju/Efw6%2BNkPguXxH8P7/AMEeNTP4Z/tJr/RbqRXLWp%2B0wi0vYs3AincTxj7S%2B%2BCTCbb/AO1D%2BzX8aPjZ8ELv4EfCb48aL4E0q6v7GBm/4Q%2B6vXk0GKFVudKkeLU7aQG4ZdpuIXhdIGaNRvInEn7S/wAXPjnpPxV8Efs9fs43PhOw8T%2BLtI1zW5da8a6Rc39jbWOmCzjeIQW1zbO0stxqNoofzcRoJW2SEBTofC34v/Ef9p/9jnwT8evgrNofhbXvHvg3Rtesh4p0ybVLTTFu4YLiWOSGC4tnuCkbyIu2aMFgpJxkEA5P4z/slfHP4xfs4r%2BzA3xj%2BHGheG9X8GXPhjxfDo/wgmUNYyoYAulRvq7R6aUtyEQTLeIrojhcDyzrfEj9lz4l/Ff4s%2BFdW8WfF/QE8B%2BDPFVn4h0Tw/YeCpk1xry2tGgRZtXkv3Ro2d3Z/LtI5GjIiMm3eX8S1f8Ab2/ahufg74G8faJ/wjkGm6n448TaT4k%2BJGkfB3xB4o0ibStNa5S11i30/Tb1bi1trl4U/eyzywqCWWR0ZJD3fxu/bo8W%2BHviJ8KfA/wFfwt4r07Xtf8ADi/EHxYIpXsotP1eTyrNbERT4FxcASXKFnlWKCAb1b7TC5AJPhL/AMEy/AX7NPxU1r4p/s0fELXtGa4%2BF9j4P8NaB4v8T6/4k0zSRbXN1MsrW97q2J4NtxHGtspiEQjkMciGeSt/wL%2BzD%2B0f8NLPxl4z8H/tCeCF8f8AxA8Zwa34n1a8%2BFly%2BiGGHTIdPS3t9Oj1iOaOQpbQO08l5KzMrArsKLHwXhz9vP4leEfiF8WJP2g9Z0nR9N8Ex%2BK77wt4Hf4Ua1pd/rul6QTIt3a61eXZsdSLQLveO2gyvmKxKhTnoPgt8bP2yfiBrmv/AAO8ceKPhppHjhPAPhvxloniCw8F39zpdra6lPfQz6fPaNqiS3EsDWDBbpbiFZRcI3kJ5bIwBU8VfsEfG2w%2BCnwn%2BDnwT/aU8MaOvw28UjxHfah4s%2BGlxq39qags0s6LDFbatZLZWqvcTgQDzdsfkorqIiX6fx9%2Bw9Z/FP8Aaz0P9o7xzdeAmsvDWpW2o6ZFpfw1S38RXM9vbGOGG81truRp7OOd2uVt47eIh44A0jLGwk8w0b9sH9s2/wD2GvBv7Ww1j4ZTnW/iRY28jL4K1GGDWPCt/wCJINL0%2B7tYjqjta3E9nPFeb3lnjXzVXy2wSfVf2nPjN%2B0F8DviR4L1Pw34g8Eaj4c8V%2BO9D8M2fgSbw5eNr2pfa7lUvbu3vlvRCgtLU3F88RtHBhsZsypuDIAZnwl/YX1X4YfGTxZ%2B0fba98NbTxzqnhvUtJ8M3nhP4S/2PY2rXs8NzPeanBHqDzatcSTWliZH8%2B3DJa7UERkZ6yPhb/wTai/4UDofwX/ad%2BK58WX3hHX9V1Twf4k%2BHba54Jn09r/7QZg/2LWpZJ2/0u5TJlVDFIEKZ3O82hft363q/wC2TqvgO%2Bg8PaZ8G9L%2BHXibVf8AhMb8yJdXN/oOoaXbajcrKZBEmnxHUJoCWTeZrCZw3l7C8f7Of7Sn7Wn7Tel/FiztNM8G%2BANU8NeNdPh8IjxL4avb1rLQ7rSbHUozqVst7bs98Yro740kgSFm8s7zEXkAOQn/AOCSet6V8BNG/Z48EftLmHRpPgRafCvxtc%2BJfDFxrNzfabEZjJeaZJcahnS7lzcz4D/a4Y1S0RYttpGK9j1b9nP47Xn7bWj/ALTun/G/wnD4V0jwhdeHF8Gz/D67l1GW0uZbS4mc6n/ayxiX7RZxlW%2ByECNmQq7YlHk3iX9tn9oxf2Dbf9rrQ9Z8LW02n3niCOaWw%2BEeu%2BIrLxVbWd3dQ2Go2cdhfJLpdleQ2ouftNw1xBFHcxsZGQCSTP8Ail/wUz8efDH4y6Zovi%2B58DeHtMk1LwRZReBL6Ka913xPHr09rb3Go6XeQ3KQNa2Mt2Vcrb3Af7HNukhEsRoA9X8U/sM/8Jd8MvjD4T1P4rSjXvi34yXX7jxEmjArYi2Wzi06ya3aUi4tooLC3iljLotwHuDiPz2A5X4h/sB/Gvx5%2Bzd8ZvhOP2kfCtn4s%2BOuqTTeMvEqfDG4OmWttJo9vpJjstNXVlkil8i0hczS3U2ZN5KFSiR%2Baj/gqz8WvBvjn4k6n8RfB%2BjXHhzwR4Z%2BIusvolr4V1HT5oYfDNwUhFvrVxO9jrr3MKl5YrKJWsXYxz4aNgfY/h58V/2xtb8VeOv2dviB49%2BF%2BkePfCfhrw54pj8V2nge/m0UaZqkmpQtbSWT6skpmhn0i8Hni6VGR4n8pDuSgD2Z7TxrYfB65s/iP4g0vVddj0KddU1HRNHk0%2B0uJfLbLxW0txcPCv8AstNIR/eNcF44/wCUhfwv/wCyM%2BPP/Tt4Qql%2ByL8Xfi58f/2G9K%2BN/wAahoZ1XxZoeoapp8nh3RbjTrabSJpJ30yf7PcXNzJFJLYm2lkQytteRlHAFXfHH/KQv4X/APZGfHn/AKdvCFAHs1FFFABRRXP/ABN%2BLHws%2BCnhGb4gfGX4l%2BH/AAloNtIkdxrfifWYLC0id2CorTTuqKWYgAE8k4FAHQUVz3iv4t/CrwH8Pm%2BLXjj4m%2BHtG8KpbRXD%2BJtW1qC309YZSoikNxI4jCuXQK27DbhjORWD4k/au/Zb8G6b4b1nxf8AtKeANKs/GUayeELvUvGNjBFriNs2tZs8oFyD5keDGWzvX1FAHf14z%2Bwf/wAkQ1z/ALLN8R//AFNdbr2avGf2D/8AkiGuf9lm%2BI//AKmut0AezUUUUAFFFFABRRRQAUUUUAFFeXftC/tq/srfsq2TXPx6%2BOGhaBOI98elyXPnX8o7FLWENM49whHI5rxJP%2BChX7Un7QDC3/Yg/YL8Tajpsp/d%2BOPincLoGlle0sULZmuoz6ptPtxXn180wOHqezc7z/linKX3Ru18%2BU8vE51luFq%2BxlPmqfyQTnP/AMBim1/29yo%2BvqK%2BSf7C/wCC3XjDjUvHf7O3g6F%2BFbR9M1fULmMep8/EZI9uKaf%2BCf37ZHxH5/aD/wCCqPxDnil/1tj8N9Ds/DQQH%2BBZYg7MP9ojJrL%2B0sRP%2BFhaj/xcsF/5NJv8DD%2B18XU/g4Oq/wDFyU1/5NNv/wAlPqbxR4y8IeB9NOs%2BNfFem6PZg4N3ql9Hbxg/70hAryXxb/wUk/YF8ET/AGXxB%2B2B8PvN3bWjsfE0F2yH0YQM5X8cVwvhb/gjX%2BwXpOpjxH48%2BHGr%2BPtZxh9Y8f8Aii81KaT/AHkaQRHn/Yr1zwl%2Bxt%2ByJ4At/J8Gfsv/AA90tduHez8HWUbMP9phFlvxJo588qbRpw9XOb/8lUUHPxHV2hSp%2Bspzf/kqhH8Tk4v%2BCnf/AAT2msZNRT9sTwCI4kLsreIIlkI9kJ3MfYAmuCu/%2BCyX7MfiK9k039nj4b/FT4vTROUkPw3%2BHt1dRRsOu55/JGB/eGR9a7/x34b/AOCaPgG4OrfEvw98DdGmtW8z7Rrdno8DxMO4MoBB/WuM1/8A4LB/8E8PBlyng3wN8U5vFN9Cm230XwD4YvNQO0cYRoYvJx9HrixGMxVHSvi6NP0V5fdKf6M%2BmyrgTxS4i/3HCylH%2Balhq01bu5VOWnFebk16FAf8FCP2vPEB834f/wDBJ74n3MPXd4j16w0l8f7kpY59qU/tw/8ABQmT5Lb/AIJFeJTIfuiX4p6Si592KcUn/Dzn4p%2BNh5XwI/4JofHTXWbiC58TaHDoFpN6ETTyP8vuVoHxG/4LP/Ew%2Bb4U/Zy%2BDHwzgfkxeOPFt3rFyg9jpwEZb6jFc31uc/4WJrVP8FGNvvcIr8T2/wDiEPGlDXMczpYT/r9iMFB/%2BAQeJqf%2BS/cL/wANT/8ABV7Wfl0n/gldpGkbvuy6x8btNmA9ysMYP4UHxt/wWx8TfLovwS/Z/wDDO7o3iHxJql7s%2Bv2UDNB/Zz/4K1%2BOh5XjX/goX4P8IwSf6%2BLwT8MIbp9vdUkvHDL/AL3UUi/8EmdF8ZH7V%2B0F%2B2t8dPHcr/62zuvHTWNh77La3RdmfZqPZ5rV%2BH27/wAU6VP/ANJhN/gH/EPOG8LrmXFfN/dw9KrVf/gSoYemvXmaMvxLoH/BWTSof7T%2BJH7cfwI8EgjPk2vhSR4cf795IrYrzTxj%2B0j%2B054Cjd/FH/Bar9nWF4/v28HhyzuJh/2yimZ/0r3Xwz/wRm/4Js%2BGpzen9mq01S6Y7pbrXtd1C%2BeU%2BrCadl/ICvTPB/7DP7F/gCRLjwd%2Byh8O7CeP7l1D4OszMP8AtoYy/wCtH9lZvP7fL61q0v8A0mMEL/Vvwiw3x43NMQ/7roUE/wDwOpWa%2BSv5H54ah/wUn%2BPmpXj6L4P/AOCpWi%2BIpkOJW8D/ALOF5fSIfQeaiRt%2BDEVB/wANA/t%2B%2BOPlsvjn%2B1t4lWT7s/hn9mHS9GtvoJjckj6la/WTTtN07SLNNP0mwgtbeMYjgt4giKPQKAAKmo/1dx1T%2BJi5fLn/APbqgez8K6GkMoxVb/r9meI/GOHo0l8r/M/JX/hVf/BSzx/8ui%2BF/wBsS%2Bkk/wCWmo/HHSPCyD3Km3kx9BQP%2BCZf/BTbx3%2B88RQas0D9bH4i/tGalqJ/4EbCKMH8K/Wqij/VLCT/AItapL52/wDkg/tHgij/ALtw1g/WrPG4h/P2uNjH/wAkR%2BTln/wQs/aN1pjL4k%2BFP7N9nLIcvfDxD4y1C5P%2B9592EJ%2BgxWrYf8G63jHWZFfxB8fPAfh6MHLw%2BHfhm17uHoHvbskfXBr9TqKqPBuQ/ag36y/yjEpcRZfRX%2By5JllL/Dl%2BGk/vq%2B3/ABufm/pP/Btr%2Bz3JEB4x/aD8U3cn8baToGl2Kn6AwSY/M10/hb/g3I/YD0C4W51bxD8RNaIOTHqHiG2jT/yXtYiPzr75orphwrw7B3WGi/W7/ORl/rTmsHelChT/AOveEwUPu5cHdfJnyhon/BEP/gmNosa7v2a1vZR96fUfFOqSs/1Budv5AV1eif8ABKP/AIJz%2BH2DWH7InhCQjp9us3uv/RzNX0JRXdDJsnp/Dh6a/wC3I/5Mb4w4rc1JY6qmtmpuNvTkULfKx5Zo/wCwx%2BxToAUaL%2ByF8MbYr0eLwHp4b8W8nJ/Ouq0H4HfBXwswbwx8H/C2mlehsPD9tDj/AL4QV1NFdUMJhafwU4r0jFflFHFic/z/ABiaxGMrTv8AzVasv/SqshscUcMYihjVFUYVVGABTqKK6Dydwrxn9l//AJLf%2B0d/2Wax/wDUK8L17NXjP7L/APyW/wDaO/7LNY/%2BoV4XoA9mooooAKKKKACiiigAooooAKKKKACiiigAooooAKKKKACiiigAooooAwviZ4O1T4g%2BA9T8F6N8QdZ8K3Go2/kp4g8Pw2cl5ZgkFmiW9t7i3JIBU%2BZC4wxwAcEeS%2BEv2Gp/Bn7JafseaT%2B1v8V10G18EJ4V0rX4Z9EttY02xjRIonguLbS41WZIEEKylCdpLnMuJR7vRQBwn7OXwNj/AGcvhbY/CPT/AIj614k0zSVSDRW1rTdJtDp1mkUcUVnDHpVlZwLCgTK5jL5dsuQFVfkj/gpTqn9h/wDBVv8AYg1TdjdqPjO1zn/nuuiRY/8AHq%2B8q/Oz/gsTfSaN/wAFDv2ItcThLfx7qSzt/djk1Pw5Gx/8erzM4lyZdOXZxf8A5PTPt/DigsVxnhqP86rx%2B/C4v/I/ROiiivTPiAooooAKKKKACiiigAooooAKKKKACiiigDK8Qf8AIW0P/sKv/wCklxWrVfU9KsdXtxbX8TMquHRkkZGRh0ZWUgqevIPc1T/4Q/Sf%2BfvVf/B5d/8Ax2gDUorL/wCEP0n/AJ%2B9V/8AB5d//HaP%2BEP0n/n71X/weXf/AMdoAyPjp8HfC37QXwe8R/BXxpdXttpviXSZbKe90uVY7uzZh8lzbu6sqTxOFljcqwV41ODjFeFfEb/glL8EvH3wk0j4NaZ8XPiH4Z03T/hPefDrVbvw9qWn/bNd0S6WP7Qt3Lc2UxWeSRDK89uIXd5H3FlIUfRn/CH6T/z96r/4PLv/AOO0f8IfpP8Az96r/wCDy7/%2BO0AeP67/AME9fgN4p8Wan4o8UXeu6gmseN7jxPqmlXF5D9luJ5/B0fhGW2YLCH%2Bztp0YfaHD%2BezNv2YiC/BX9hnTfgn4z1T4i2H7SXxL1/XtS8K6L4aTVPEl1pUz2elaXdXFxb20SR6fHGd32qeOSWRXmdXyZBIBIPX/APhD9J/5%2B9V/8Hl3/wDHaP8AhD9J/wCfvVf/AAeXf/x2gDiP2g/2ZtI%2BPl5oPiO0%2BKHizwP4j8N/bI9J8VeCrizS%2BitruIRXVqftltcQtFKEiY5j3q8EToyMgNYvxH/Ys8IeN/2aLn9kjwr8V/GfgjwS/g7SfDGm2Pg65sYptL06xJUxwTXFpM5%2B0W/l2swlMimGICNYnaR39R/4Q/Sf%2BfvVf/B5d/8Ax2j/AIQ/Sf8An71X/wAHl3/8doA80f8AZZ8bQfCvR/hX4f8A2yfiZosWkRy266toul%2BF7a5ntGRUjtSiaL9ngjhVQIzbwxSKCcueMcr4t/4JR/sCeMdH8DaZqP7M/hFbj4eyaCug6y3hiwuNRe10iOOKzsp7u4gkmmtxFDHGylslUADDrXuv/CH6T/z96r/4PLv/AOO0f8IfpP8Az96r/wCDy7/%2BO0AeY6z%2Bxr4a8dfFB/iL8Zvi54w8c2NvHq0eheD/ABF/ZkelaMmowvb3CwrZWUE83%2BjSy26m6mnKxyvg7mLVleAf2CPB3gT4feNfBbfHL4iaxqPjTwPb%2BD28Y6vqVidW0fRraC6is7azkhs44gYDe3MqzTRTSvJKWmeXAA9j/wCEP0n/AJ%2B9V/8AB5d//HaP%2BEP0n/n71X/weXf/AMdoA8w%2BPv7Gfhj42/Anw/8As6%2BG/ix4t%2BHXhvw5c6TJYxeBYtKMjR6bNBPZQMdSsbtVjiltoHARULeWFYlSymjqH7E93qP7Ruh/tO3H7V3xLbXdD8N2mhpYy23h6WyntY5Fkujsk0lntpL10Q3L2rwGQRxKnlrFEqeu/wDCH6T/AM/eq/8Ag8u//jtH/CH6T/z96r/4PLv/AOO0AeMH/gmF%2BwbH8ck%2BPth%2Byx4Bs9Wk8L61oWqWVn4H0uO01aHVXtzdzXaC23TzMkMkO5mwYry6RlYSnHN6x/wSQ/ZMtvA/xO8A/BjTLn4V2fxa1HTZ/Fcnwy0bR9NY2tnBBD/ZsatYSR/YphCxmhdHEhurkZCzMtfRf/CH6T/z96r/AODy7/8AjtH/AAh%2Bk/8AP3qv/g8u/wD47QB5j4m/ZR8Y%2BJfhfpfwr/4bK%2BKGnWtlZXljqOoaRZeGra41a0n2qIJguj%2BVAIo1McTWkdvIquxLs2GDtY/Yz8G6xeeD9Ck%2BJXiyDwH4IXR20X4W28lgNFafSnSTT55XNob%2BRoZYbeUIbryi9tGzRsQd3pn/AAh%2Bk/8AP3qv/g8u/wD47R/wh%2Bk/8/eq/wDg8u//AI7QB4bpP/BNf4IQaneWnivxl4u8S%2BFJLXxHb6R4A128tDpOjJrrSnUxbmG2jupPMWeeNRcXEwiSd1jCDGL%2BifsEeDrH4V/EP4c%2BJfjj8Q/EWo/EzwtH4a1/xxrGpWK61BpMVtPb29rbyW9nFDGIlurp1kMLSmS5lkd3dsj2P/hD9J/5%2B9V/8Hl3/wDHaP8AhD9J/wCfvVf/AAeXf/x2gCrr2i6T4b%2BGF74d0DTobOwsNBktrK0t0CxwQpAVRFA6KFAAHoK838cf8pC/hf8A9kZ8ef8Ap28IV6ifBmhvhZ2vpkyCYrjVrmRG9mVpCrD2IIry7xx/ykL%2BF/8A2Rnx5/6dvCFAHs1FFFABXgX7aSan4a%2BI/wAFfjVfeCvEHiDwx4J8eX134jtPDHhu71i7svtGhalZ298tlZxS3E4SW4EJ8qN2QXe8gIrsvvtFAHxN4V%2BGWraD/wAE/fhroni638W%2BD/FHwv17TvEujafF8KNW8SrpTyS3LWWnzabYIJL6OC0uhbyJayZtniVvMjMQNee6i3xd8AfsQWH7LHxM%2BGHju61L45%2BIfHMviXxjpnwa1bVF8JeFtV1q9vJBJZadbXTWt7PbXsa29jKSIJJGMzOLVll/RuigDn9Q0zxE/wANhpXwo1qz0jUBpkcei3viPRri9it8KoQz23n280mFGChljfPUggivK/8AgnTb%2BJbT9m6%2BtfGWrWN/q8fxb%2BIa6nfaZpz2ltcTjxnrXmSRQPNM0KFskI0shUEAu2Mn3SvGf2D/APkiGuf9lm%2BI/wD6mut0AezUUUUAFFFFABXn37SX7UfwP/ZL%2BHknxL%2BOnjeDSLDf5VlbgGS61CfHEFvCvzzSH0UYA5YqoJHnP7YH7eNn8DvEll%2Bz58B/Bb/EP4zeIov%2BJB4I0%2BT5LJCP%2BP3UJAQLa2UHcdxUsOhVcyLj/s1f8E%2Bb7SviLD%2B1T%2B2p45T4mfF11DWV1PFjSPC65yLfTLZhtTaf%2BWxAckbgFLMW8qvjqtWs8PgkpTXxSfwQ9bfFL%2B4v%2B3nFb%2BJicyr168sLl8VKa0lJ/BT9bfFPqoRd9udxW/Oj9qf/AIKQ/tPYg/ZU/ZAtvht4fuP9V43%2BN9y0Nw0Z/ii0u3JlVscqXLIcjOKsN/wT8/bD%2BKak/tKf8FQ/H88Ew/e6V8MtHtPDUaKesYmiDvIvbLAEivrmvAPj3/wU1/ZA%2BAGuf8INqPxEfxV4ueQxW3gnwFZtq%2BqTSj/ll5UGVif/AGZWQ1zYjB4OhT9pmGIlJf3pckfRQg439PeZ6uS8CZxxRi/q2HhXxlW13GHMopdW40uSEYrrKpNJdZbmh%2Bz1/wAE5f2Of2Zb1fEPw3%2BDGnz%2BIDJ5s3ivxAW1LVJJTy0n2i4LNGxPJ8vYCe1e06jqWnaPYS6pq9/Ba2sCF57m5lCRxqOrMzEAD3NfJH/C/P8Agqh%2B0h%2B5%2BA/7Knh/4P6FPwnib4u6mbjUWjP8UenWo3QyDss25T6%2Bkumf8EodE%2BKeoQ%2BKf28v2j/G3xp1FJBKNGv75tK0CCQHIMWn2jKFIPcvhgBle1OhiVCn7PLsK%2BXu17KHrqueXyhr3P0HC%2BH3D/DdLlznMKGGS/5c4ZRxVa/Zqk1Qg%2B7qYmTXVM634sf8FX/2CvhLqP8Awjtx8e7DxLrTuY7fQvA8Ems3M8n/ADzX7Kror%2Bzutccv7X3/AAUV/aBYJ%2Byr%2Bwevg7SpeYPFnx11RrAEHoTptsTcjjkMGIr6N%2BFH7P3wL%2BBOnf2V8GPg/wCGvC0BTa40LRYbZpB/tsihnPuxJNdfW/1TNMR/HrqC7U42/wDJ580vuijf%2B3%2BA8o/5FmVPETX28ZV516rD4f2NP5TqzXqfJH/DKP8AwU8%2BKR3/ABk/4KOWPhS0k/12i/C7wFBHj/cvbk%2BcuPoaVf8Agjb%2Bzb4sYTftD/Ff4tfFaRuZV8d/Ea7kiJ/2UtjDtX0GeK%2BtqKP7Ey6X8WLqf45Sn%2BDly/8Akov%2BIocZ0dMBWhhF2w1Ghh2v%2B36dL2vz9tfzZ8%2B%2BDP8AglT/AME6/AbxyaF%2ByJ4PmaIgodYsW1Hp6/a2kz%2BNe2%2BEfA3gnwBpY0TwH4O0rRLJcbbPSNPjtohj/YjUD9K1aK7aGCweF/g04x9IpfkkfM5rxLxJnv8AyMsbWr/9fKtSa%2B6c5L8AooorpPECiiigAooooAKKKKACiiigAooooAKKKKACiiigAooooAKKKKACvGf2X/8Akt/7R3/ZZrH/ANQrwvXs1eM/sv8A/Jb/ANo7/ss1j/6hXhegD2aiiigAooooAKKKKACiiigAooooAKKKKACiiigAooooAKKKKACiiigAooooAK/OX/guP/oHx%2B/Z78XdP%2BEfOqaju/u7fEPhBM/%2BRK/Rqvzo/wCC%2BcMsejaN4gt0LS6N8K/EF/EB1yni3wICfyY15We/8ibEPtBv7rP9D7/wpafiXlEH9vEU4f8Agznp/wDuQ/ReimwTRXMCXELhkkQMjDuCMg06vVPgGmnZhRRRQAUUUUAFFFFABRRRQAUUUUAFFFFABRRRQAUUUUAFFFFABRRRQAUUUUAFFFFABRRRQAUUUUAFFFFABRRRQAUUUUAFeM%2BOP%2BUhfwv/AOyM%2BPP/AE7eEK9mrxnxx/ykL%2BF//ZGfHn/p28IUAezUUUUAFFFFABRRRQAV4z%2Bwf/yRDXP%2ByzfEf/1Ndbr2avGf2D/%2BSIa5/wBlm%2BI//qa63QB7NRRQSAMk4A6mgCK/v7HSrGbVNUvYra2tomluLi4kCRxRqCWdmPCqACSTwAK%2BO/GH7cXx1/bK8TXvwZ/4Jj6HA%2Bl2tw1r4l%2BO3iG0P9jaWRw6afGw/wBPuAOhwYwdpIKMJBj/ABU8ZeLf%2BCrfxb1H9mb4K%2BILvTfgL4U1EQfFPx3pspRvFd0hDHRbCQdYRx50q8EHj5SnnfZfgzwX4L%2BF3g2w8D%2BBvD9louh6NZrb6fp9lEsUFrCg4UAcAAck9%2BSea8R1a%2BazcaM3CitHJfFN9VB9IrZzV23dRsk5Hz3tsVnlSUMNNww6dnOPxVHs1Tf2YLZzSbk7qFknI8x/ZA/Ym%2BFn7IHh2%2Bbw/d3niHxf4gl%2B0%2BMvH2vv52p65ck7meSQklYwxO2IHC9SWYs55b9qD/gob4X%2BEvjhP2dv2f8AwRd/FP4v3yYtfBPh%2BYeXpoOP3%2Bo3PKWcS5BIY7sFchVYOPPvib%2B1D8af29vHmpfs0/8ABPrxE2jeEdNuTafEP47IhaC0/v2WkEEfaLkg8zKdqAgqRlJD9A/su/shfAn9j/wO3gr4L%2BEhbPdOJda1y9fz9R1efkme6uG%2BaViSxxwq7jtVQcVnRnOvD6vlqUKUdHUtf1VNP4ne95yvG9/jdz9lwPCvDnh/gadTP6PPiGlKngYtw5U9Yzxk0%2BempX5lQj/tFRPmqSoRkubwkfsNftiftV/8TD9vr9rC407QrjmT4WfB9n03Tih/5ZXN6%2Bbi6UjAZDwCMq9fQPwD/ZQ/Zw/Zd0P%2BwPgF8HND8MxNGEnuLG0BurgDp5tw%2B6Wb/gbtXoVFd%2BGyzB4ap7VR5p/zSfNL73t6RUV5Hk51xzxJneE%2BpTqqlhd1QoxVGgu16dOym/71WVaf94KKKK9A%2BRCiiigAooooAKKKKACiiigAooooAKKKKACiiigAooooAKKKKACiiigAooooAKKKKACiiigArxn9l/8A5Lf%2B0d/2Wax/9QrwvXs1eM/sv/8AJb/2jv8Ass1j/wCoV4XoA9mooooAKKKKACiiigAooooAKKKKACiiigAooooAKKKKACiiigAooooA5b42%2BCLH4jfCjXfBupa/r2lwXdiS994Z1%2B60u%2Bj2ESDyrq0kjmhJKBS0bqxUsMjNfMz/ABe%2BJ%2Bm/8EUfh/8AFdPiLq0PiHVvhH4L/t7xnNfNJf2sV9Hp0Oo6o1xIS3nRwT3FwZmJIZN5PBNfVPxB%2BHXw%2B%2BLXg6%2B%2BHfxU8CaN4m8P6pGsepaF4g0uK9s7tAwcLLDMrJIAyqwDA8qD1Fc94C/Zd/Zm%2BFfheXwP8MP2dfAnhvRZ9Nm0%2BfR9B8I2VnayWkzFprdooolQxOxJZCNrEkkGgDz79ii41bQ/Gvxq%2BDcHjHXte8N%2BBPiZb6b4WvPEviG61a8toZvD%2BkX89m97eSS3FyI7m7nYNLI7IJhFnEaqPmT/AILDa34k8fal4n8H6t8IPEOiWei/s9eNprDXtVudOe01oR6/4MmL2y213LOgTyhn7RFAfmG0N82Pvj4a/Cv4YfBjwhb/AA%2B%2BD3w40HwnoFo7taaH4a0eCws4Wdi7lIYFVFLMSxIHJJJ5r5U/4Kj6N/b2sappwTcf%2BGTfivKi%2BrR3PhWQfqgrgzSHtMsrx7wn/wCkyPq%2BA8T9T45yqv8Ay4nDv/yvS/zPqX4Naz/wkfwg8KeId%2B77f4asbjdnrvt0bP610leXfsQaz/wkP7F/wj10tlrv4ZaDK5/2jp8BI/PNeo10YWftMLTn3jF/fGL/AFPJz3DfUs9xeH/kq1Y/%2BA1akf8A20KKKK3PKCiiigAooooAKKKKACiiigAooooAKKKKACiiigAooooAKKKKACiiigAooooAKKKKACiiigAooooAKKKKACiiigArxnxx/wApC/hf/wBkZ8ef%2BnbwhXs1eM%2BOP%2BUhfwv/AOyM%2BPP/AE7eEKAPZqKKKACiivmL/go%2BfhGNZ%2BDf/DUZ0D/hT3/CwLv/AIT3/hMPJ/sPzP7E1H%2Bz/wC0vP8A3P2f7Vs2%2Bd%2B7%2B0/Zf%2BWnl0AfTtFfApj8M%2BNf%2BCXvw3s/ip8VPAVpYeDtW0jU9a8N/GbxONP0vV9DM040rTdammSV7cTWj2cyGeGUvNbxB43ywrw%2BVfAifAjwxN%2B3HZaBaeBJ/AXxVn%2BDtoRINOt79/EKPocekecqObxdMaMaSURLk24c26RneigH61V4z%2Bwf/wAkQ1z/ALLN8R//AFNdbrrPAt38bbH9nHw9d6hoOnap8QY/CVgdR0/XNWewtp9T%2Bzx%2BestxDb3DRDzN/wAywyc/w1wv/BOm48S3f7N19deMtJsbDV5Pi38Q21Ox0zUXu7a3nPjPWvMjineGFpkDZAdooywAJRc4AB7pXyR%2B398Y/iD8Y/iDpf8AwTX/AGYtde08W%2BM7I3XxD8T2vzf8Il4aJCzSEj7txOD5ca5Bw/8AD5iOPoP9o34zaL%2Bzv8BfF/xx1/Y1t4W8PXWo%2BU7YE8kcZMcI93fag92FeN/8Eu/2ftS%2BHHwEj%2BPfxSml1H4m/F5YvE/jvWr1QJmedfMt7RR/yzigidVEY4Vi%2BMDAHkZhKpiq0cDTduZc02t1C9rLzm/dv0XM97HhZpKrjcRHLaTtzpyqSW6pp8tl2lUfup9I87Wtre3/AAT%2BDHw7/Z6%2BFeifBn4U%2BH49M0HQLFbaxtkA3EDlpHbHzyOxLu55ZmJPJr5e/a5%2BJXjn9t342XX/AATj/Zu8RXGn6FYxpL8d/HmnN/yC7B%2Bmj279DdTgFX67V3AhgJVXu/8AgoL%2B1P43%2BFekaH%2Bzh%2BzdBHqHxj%2BJ8z6f4PtM5XSbfB%2B0atPwdkUCbmBIILLnDBHFd7%2Bx7%2Byl4F/Y8%2BCtl8KfB80l9ePI174m8Q3mWutb1OXBnvJmJJLM3QEnaoVcnGTliEsbV/s%2Bh7tKCSqNaaW0pxts2vit8MNN5afs3DeFwnAuR0uIsRTTxE7rA0mlyx5PdeLnFqzhSkuXDxatUrxc2nToPm7L4V/Cv4ffBL4faV8LPhZ4VtNF0HRbVbfT9Oso9qRqOpPdnY5ZnOWZiWJJJNdBRRXtQhCnBRirJaJLZI/PMRiK%2BLrzr15uc5tylKTbcm22222222222222FFFFUYhRRRQAUUUUAFFFFABRRRQAUUUUAFFFFABRRRQAUUUUAFFFFABRRRQAUUUUAFFFFABRRRQAUUUUAFeM/sv/APJb/wBo7/ss1j/6hXhevZq8Z/Zf/wCS3/tHf9lmsf8A1CvC9AHs1FFFABRRRQAUUUUAFFFFABRRRQAUUUUAFFFFABRRRQAUUUUAFFFFABRRRQAV8w/tpaN/wkfx5sPD2zd9v/Zh%2BKVvt9d914VXH619PV4Z8XNJTXv26fh9ocgG29%2BBnxBgbPTD6n4RX%2BtZ1oe0oyh3TX3pr9Tsy7E/U8xoYj%2BScJf%2BAzhL/wBtK3/BLXWf7e/4J3/B%2B%2B37tngi0t8/9cQYsf8Ajle%2BV8sf8EUtWfWP%2BCY3wullJ8yC11O2dT1UxareRgH8FFfU9cOTz9plGHl3pw/9JR9R4kYb6n4h5xQ/lxWIX/lao/1CiiivSPiwooooAKKKKACiiigAooooAKKKKACiiigAooooAKKKKACiiigAooooAKKKKACiiigAooooAKKKKACiiigAooooAK8Z8cf8pC/hf/2Rnx5/6dvCFezV4z44/wCUhfwv/wCyM%2BPP/Tt4QoA9mooooAKKKKACiiigArxn9g//AJIhrn/ZZviP/wCprrdezV4z%2Bwf/AMkQ1z/ss3xH/wDU11ugDyj/AIKrTTfGS/8AhF%2BwZpUrM/xa8fQy%2BJYo25/4R/TNt5e5x0JKxFSeCUIr6T%2BMnxU8Hfs/fB3xD8XvGMi2%2Bi%2BFdEnv7pI8KTHDGWESDpuYgIq92YDvXzV%2Bz1/xkj/wVL%2BLX7QE37/QvhHodt8PfC8h5jN%2B7fatSkX0kjciEnqVcD6N/wCCkc8/7SPxl%2BFX/BOPQ5ne18Zauvif4liJj%2B68N6dIJPKfH3RcXCrGrdniHrXzaxU6dHE46CvKcvZ0135XyR%2BTm5yfkmzt8NMiocVcVzqYqTjh3KUqkl9nC4WMpVZLzfLUUe86lNdTU/4JvfA/xp4lXUv%2BCg37R8STfEr4r2UVxY2ZBMfhnw%2B2HtNNgDDK5TZJIcAsxXcNwZm%2BraZBBBawJa20KRxxoFjjRQFVQMAADoAKfXs4LCQwWGjSi79W3vKT1lJ%2Bbd39y2SPS4n4gxPE%2BdVcfVioJ2jCEfhpUoLlpUoLpGnBRiu75pO8pybKKKK6zwAooooAKKKKACiiigAooooAKKKKACiiigAooooAKKKKACiiigAooooAKKKKACiiigAooooAKKKKACiiigArxn9l/wD5Lf8AtHf9lmsf/UK8L17NXjP7L/8AyW/9o7/ss1j/AOoV4XoA9mooooAKKKKACiiigAooooAKKKKACiiigAooooAKKKKACiiigAooooAjvb2z06zl1DULuKC3giaSeeaQKkaKMszMeAAASSelc/8ADD4x/CL43eEh4%2B%2BDHxU8N%2BL9CM8kI1rwvrlvqFoZExvTzoHZNy5GRnIzzXDft9/D7xp8Vv2KPin8OPh5o0up6zrPgbUbWy0iBwr6mWgbdZqWIUGdd0I3EL%2B85IGTXkHw9vtX8d3/AO0P8QPBHwJ8VrpPxH0aG08G%2BF/FPhDVNBOvX9loHk3DzrcQRSWEcu62slmnERk%2BxkxFlVGIB9IfCn48/A3472V9qXwP%2BM/hPxnbaZci31K48KeIrbUUtJiMiOVrd3Eb452tg4rhfHH/ACkL%2BF//AGRnx5/6dvCFeJf8Esfh/wCN/CvxE8U61q5%2BI2saW3wr8FaLH4n%2BKXgR/DuoQXdgdV8zRbe3NpaieztVuUkS48qRy97IrXd1tXyfTL/Tfivaf8FNvBd5428aeHtQ0K4%2BD3jg%2BGtO0rwxPZ3dgg1bwl5i3NzJezJdk5TBSG3C7TkNuG0A5L/gi1/oH7Fj%2BEen/CP/ABB8R6dt/u7dRlfH/kSvrSvkv/gkf/xL/B/xy8Inj%2Bwf2lvFtkq%2BiiSBx%2BHzmvrSvJyLTJ6C7Rt9zlH9D9A8VdfEbM6n89Xn/wDBlOhV/wDcgUUUV6x%2BfhRRRQAUUUUAFFFFABRRRQAUUUUAFFFFABRRRQAUUUUAFFFFABRRRQAUUUUAFFFFABRRRQAUUUUAFFFFABRRRQAV4z44/wCUhfwv/wCyM%2BPP/Tt4Qr2avGfHH/KQv4X/APZGfHn/AKdvCFAHs1FFFABRRRQAUUUUAFeEfsfeIrTwh%2BzL4w8W3%2BPI0v4q/E27mycfJH4y1xz%2Bi17vXxvrfjL/AIQH/glP8efFCS%2BXJD4j%2BLsVu%2BfuzS%2BLNeijP/fbrWGJq/V8NOr/ACxb%2B5N/oc2MrrC4OpWf2Yyl90W/0N3/AII1eHj4d/4J7eGPiD4kmH9r%2BNb7VfFPibUZiAbm5ubyY%2Be5P/TFIQT/ALNZf/BNC1uv2h/iZ8Uv%2BCjniK2cx/EDW20H4didSDb%2BGdOcwxuoPKefMjO6/wB6LI61n/Fvxfcfsm/8EPbIaeHi1aL4N6VolikQ/eHUL%2B1gtdyAclhJcNJj/ZPpX0j%2Byx8Hrf8AZ%2B/Zt8C/BSCNFbwz4WsrC6KYxJcJComk47tLvY%2B7V4GAo81XC4d7UaUZv/HJcsb%2BaXtJerufdcKUXw14QTrrSrjZU8Kn19lRpwxGIt/jqzoQk%2Bqi11Z31FFFfTHxwUUUUAFFFFABRRRQAUUUUAFFFFABRRRQAUUUUAFFFFABRRRQAUUUUAFFFFABRRRQAUUUUAFFFFABRRRQAUUUUAFeM/sv/wDJb/2jv%2ByzWP8A6hXhevZq8Z/Zf/5Lf%2B0d/wBlmsf/AFCvC9AHs1FFFABRRRQAUUUUAFFFFABRRRQAUUUUAFFFFABRRRQAUUUUAFFFFABRRRQAV4z44/5SF/C//sjPjz/07eEK9mr5/wDiv4zsPD3/AAU3%2BCPhe%2BZVbX/g98RILQnq00WoeEZtv/fuOU/8BFTKUYq7JlKMFd/1fQ4v/gmt/wASj45/tS%2BEenk/HW61Hb/1920T5/HbX1pXyX%2BxN/xKP%2BCin7XXhLoI9d8Jaiq%2Bv2rSXckfitfWleXkumAUe0qi%2B6pP/M/QvE73uLnV/wCflDBz/wDA8HhX/wC2hRRRXrH5%2BFFFFABRRRQAUUUUAFFFFABRRRQAUUUUAFFFFABRRRQAUUUUAFFFFABRRRQAUUUUAFFFFABRRRQAUUUUAFFFFABXjPjj/lIX8L/%2ByM%2BPP/Tt4Qr2avGfHH/KQv4X/wDZGfHn/p28IUAezUUUUAFeBftpSan4l%2BI/wV%2BCl9418QeH/DPjfx5fWniO78MeJLvR7y9%2Bz6FqV5b2K3tnLFcQB5bcTHypEZxabCSjOre%2B1z/xO%2BE3wr%2BNnhGb4f8Axl%2BGnh/xdoNxIklxonifRoL%2B0ldG3IzQzoyMVYAgkcEZFAHxvr/xY%2BNXxC/4JtfBdtL%2BI%2Bo3vinxr440jQ7K/fxTdaG/i6zS7uNhn1exU3Gni7srUXDXVujO7EIiN54U%2BI%2BM/iP%2B1B41%2BBnh7wL4Q%2BK2vXfiPwh4O%2BLV74ksLn4x6too0yXSfEKWdtdw6xbZn8Qf2aA1pDFe%2BVFeRt5949rLiM/pPr/7PnwE8WeFr/wN4p%2BCHhDUtE1W3tYNU0fUPDVrNa3kVqALaOWJ4ykixBVEasCECjbjFZ3iP9k39ljxh4R0D4f%2BLv2aPh/qmg%2BFDnwvomo%2BDbGez0c8D/RYXiKW/Qf6sL0FAFzwt8Q9QvPgDo3xQ8PeHde8YXF34Ys9QtdPtILOz1HVDLBG4%2BS5nht4ZWDbijyoqnIzwK%2BEv2lvFeuav/wRc8faePDl9oWseNPjd4q0uHR9Tkge5s5rn4jaiXt5TbSyxM6oJFby5HQkHazDBP6QgBQFUYA6AV%2Bcfxq/4qf4N/Bf4Qp83/CSft3eJ5LyL%2B/Z2vjXxDNMMf8AfBrys8b/ALIrRX2o8v8A4E4x/wDbjxeI2/7CxEVvKPL/AOBuMP8A289a/b%2B0qz%2BIXx6/Zm/Yq0ePdYX/AI6/4SbWrdeVGm6HbeasUn%2BxIzhR6sgr7Cr5G%2BC3/F8v%2BCufxY%2BKb/vdN%2BEngPS/BekueYzeXjG/unX/AG0x5THrggV9c1OVpVauIxH803Ff4aaUF%2BPMz9b44Sy3L8nySOnsMNGpNf8AT3FyeIlfzVN4ePpp5BRRRXrn58FFFFABRRRQAUUUUAFFFFABRRRQAUUUUAFFFFABRRRQAUUUUAFFFFABRRRQAUUUUAFFFFABRRRQAUUUUAFFFFABXjP7L/8AyW/9o7/ss1j/AOoV4Xr2avGf2X/%2BS3/tHf8AZZrH/wBQrwvQB7NRRRQAUUUUAFFFFABRRRQAUUUUAFFFFABRRRQAUUUUAFFFFABRRRQAUVzvxc%2BKXg34H/C3xF8Y/iHfva6F4W0W51TVp4oWlkW3giaR9iLlpHIUhUUFmYgAEkVyvwW/ag8L/FzTPFMniHwP4g8A6t4IuUj8V%2BHfG/2KO606OS1S7iuGezubi3eF4X3B0mYApIjbXjdVAPTK%2BC/%2BCmPj2T4V/wDBU79iXx0ZikMmo%2BMNFuGz8uzUToVn83tmUHJ6EA19Y/s8/tAzftEeHX8aWHwU8Z%2BF9CubS1vPDmr%2BLIrCJdes7hXeO4ght7uaeFdioxju4reUCZAY87wvxr/wXS8M6nqeo%2BFPHPh6Ldq/gX4YeJ/E%2Bktj7ktp4k8FM7e2IWlNebnEpwyyrOG8Vzf%2BAuMvyizyM%2BlUp5NWqQ3guf8A8AlGf5RZ6z%2Bz9/xJP%2BCvP7QemdP7b8C%2BE9Rx/e8mGS3z%2BuK%2BtK%2BNtE8W6b4d/wCCvnhrx9u/4knxs%2BAax%2BGrnOPOvbK5F28fvi1cPkeo4719k1lk8l7KtFdKtT/yZqS%2B9Suj9W8Qmq%2BIyzGR1jWwGDafR8lOdGX3Spcr7MKKKK9c%2BACiiigAooooAKKKKACiiigAooooAKKKKACiiigAooooAKKKKACiiigAooooAKKKKACiiigAooooAKKKKACiiigArxnxx/ykL%2BF//ZGfHn/p28IV7NXjPjj/AJSF/C//ALIz48/9O3hCgD2aiiigAooooAKKKKACvzg8KXMHib9sT9nnwRPKBaaJ8Yfjn4k1QN0RYvEusRwP%2BEm6v0fr8qPhn4q8v9rP4u%2BNPM/0X4YfCP4vX%2B/P%2BqvJ/H/iB/wzCn6V42eVFDCQT6zh90W5v8IHn47CTzLEYPAQ3r4jD01/29Vj/kj6j/4I0WVx4n/ZV1b9pPWIiNU%2BMHxF17xXfB%2BXjEl49vHFn%2B6q2%2BVA4AfjrX1pXgv/AAS78Lf8Id/wTy%2BD%2BkeXt87wNZX2Mf8APyv2nP4%2Bbn8a96rfJqbpZTQi9%2BSLfq1zN/NybP0bxJxkMd4g5rVh8CxFWMV2hTm6UIryjCjCK8kFFFFekfEhRRRQAUUUUAFFFFABRRRQAUUUUAFFFFABRRRQAUUUUAFFFFABRRRQAUUUUAFFFFABRRRQAUUUUAFFFFABRRRQAV4z%2By//AMlv/aO/7LNY/wDqFeF69mrxn9l//kt/7R3/AGWax/8AUK8L0AezUUUUAFFFFABRRRQAUUUUAFFFFABRRRQAUUUUAFFFFABRRRQAUUUUAef/ALVfwVuv2jP2bvG3wO07Xo9KvPE/hy6sdO1OaEyx2l0yEwTOgILosoRmQEFlBGRnNeZ%2BAP2b/jn4tvPinr/7Q%2BkeEdOuvjDpiaLrll4P8U3d5HommW%2BmNaweRLcWEBu5pJri7kcskCxK8SjzShZvoyigD5c/4J8fsV/Eb9lbX9T1LxT4f8D%2BG7GXwRoegNo/gHU7q5g16/sWuvO8Q3v2i2g8u9uVmiRlAnkxEPMuZ8JsyP2mv2Z/DHjT9raTwvpl74gubz4kfs4/EnT72DVvF2o31pDJJe%2BFYkNra3M8kFiMyZIt0iDEKWB2rj66rxnxx/ykL%2BF//ZGfHn/p28IVFSnGrTlCWzTT9Gmn%2BZnVpQrUpU57STT9Gmn%2BDZ8U6t471DVv%2BCUf7NP7d%2BkRSy6r8Cte0ttWKKTM%2BlwXB0e/gI65dY4i3%2BypPvX6b2F/ZarYw6npt0k9vcwrLBNE2VkRgCrA9wQQa%2BH/ANhj4T6P49%2BB37T37A3ibbHaaX8T/EmlWMbL/wAe2malEJrSQDsQzyOMdwCK9W/4JPfFjWfil%2Bw34R0/xfuTxF4KE/hHxJbyNl4LvTZDbBXPdjCsLknu9fM5HUlSqwjL/l5TV/8AHRbpy%2B%2BKi/kfX5RVnn3gzgK09auXVXQn39lXTlD5RxGHrR8vaJddfo%2BiiivqT5QKKKKACiiigAooooAKKKKACiiigAooooAKKKKACiiigAooooAKKKKACiiigAooooAKKKKACiiigAooooAKKKKACvGfHH/KQv4X/wDZGfHn/p28IV7NXjPjj/lIX8L/APsjPjz/ANO3hCgD2aiiigAoorwL9tKTU/EvxH%2BCvwUvvGviDw/4Z8b%2BPL608R3fhjxJd6PeXv2fQtSvLexW9s5YriAPLbiY%2BVIjOLTYSUZ1YA99or4X1/4sfGr4hf8ABNr4LtpfxH1G98U%2BNfHGkaHZX7%2BKbrQ38XWaXdxsM%2Br2Km408Xdlai4a6t0Z3YhERvPCny7TPjH%2B0h4n8GfDv4RavL4k8Q2Gh6R8VtW8ZwJ8cNT8OyPceH/EtvZRWKeIrUNe6jFZ29zLBE8phN55cc92YGjkjUA/Tmvxo8CavdaX4D/4KOfEy9bbHp3ifXPC2myZ/hu/Ems%2Bcn/fdwnHvX6xeFfipD4j/Z/0X4zfD7wL4i8QQar4XstV0jQIpLaPVLqKeCOWOIm8uIoVm2uN3mzKMg5bPX8ntL0nU9f/AOCeH7T91rHhm%2B0TUfit%2B29rGinSNQkha6tVXxMkn2eRreSSJpEdZkYxSSJlTtdlIJ%2Bc4mUvqSkuim/n7KaX4zR9FwJgI5j4o8O0p/AsZSnL/DC82/kot/I/WX9nfwr/AMIL%2Bz/4F8E%2BVs/sfwdpljsx93yrSKPH/jtdjSIiRoI41CqowqgcAUtfQU4KlTjBbJJfckv0PGxuJnjcZVxM/iqSlJ%2BspSk/xkwoooqzmCiiigAooooAKKKKACiiigAooooAKKKKACiiigAooooAKKKKACiiigAooooAKKKKACiiigAooooAKKKKACiiigArxn9l/wD5Lf8AtHf9lmsf/UK8L17NXjP7L/8AyW/9o7/ss1j/AOoV4XoA9mooooAKKKKACiiigAooooAKKKKACiiigAooooAKKKKACiiigAooooAKKKKACvGfHH/KQv4X/wDZGfHn/p28IV7NXjPjj/lIX8L/APsjPjz/ANO3hCgDyf4cX1v8Cf8AgsT8RfButsbOz%2BN3gDSdc8PvIMRXmoaUj2s8EZ6eaIS0rL12jJ6jMP7OuqWf7LH/AAUw%2BLH7OHiNzp%2Bi/GOSDx18PTKu2G71ARFNWhRujTF1EuzqETJ6jPbf8FMv2evGXxd%2BCNn8V/gohj%2BJvwo1VfFPgKeNNzzzQYaeyIHLpcRKUKdHZYweM1z3xT8J%2BFv%2BCqn7D/hL48fAzXBofjSyji8SfDrXElHnaHrkBxJaSPj7nmo8EgwVO1Xw21a%2BVq0a2HxEqdNXnTk61NfzRndVIeqbdvNwb0uez4a5pl2V5xj%2BHM2n7PC4%2BLXtN1T5qkalOrbqqGJX7xLV0a03HVK/1fRXi/7Cn7WVt%2B1v8Eo/FGt6OdF8Z%2BH72TRfiD4YlBWXSdXgO2aMqTkIxG9OvyttJLK2PaK%2Bkw%2BIpYuhGtSd4yV1/XRrZro010MM5yjMMgzWtl2OhyVaUnGS31XVNaSjJNSjJNqUZRkm1JBRRRWx5oUUUUAFFFFABRRRQAUUUUAFFFFABRRRQAUUUUAFFFFABRRRQAUUUUAFFFFABRRRQAUUUUAFFFFABRRRQAV4z44/5SF/C/8A7Iz48/8ATt4Qr2avGfHH/KQv4X/9kZ8ef%2BnbwhQB7NRRRQAVz/xO%2BE3wr%2BNnhGb4f/GX4aeH/F2g3EiSXGieJ9Ggv7SV0bcjNDOjIxVgCCRwRkV0FFAHIa/%2Bz58BPFnha/8AA3in4IeENS0TVbe1g1TR9Q8NWs1reRWoAto5YnjKSLEFURqwIQKNuMVT8Q/sufsy%2BLvAOjfCnxX%2Bzp4E1Pwt4dkWTw/4a1DwjZTafpjqCqtb27xGOEgMwBRRgMR3ru6KAEREjQRxoFVRhVAwAPSvzO8a%2BDrK0%2BGfwl%2BHdjL5j%2BMv%2BChfivWdTUpjfDb%2BMNeMi9eQFji59q/TKvzl8Pf8VP8AtYfs1eAF%2BaKH48/HLW7xf7n2bxFrHksfq7EV5GeRUsByv7UoR/8AAqkE/wAEffeGMYw4yp4p/wDLiji6vp7PB4l/nJfOx%2BjVFFFeufAhRRRQAUUUUAFFFFABRRRQAUUUUAFFFFABRRRQAUUUUAFFFFABRRRQAUUUUAFFFFABRRRQAUUUUAFFFFABRRRQAUUUUAFeM/sv/wDJb/2jv%2ByzWP8A6hXhevZq8Z/Zf/5Lf%2B0d/wBlmsf/AFCvC9AHs1FFFABRRRQAUUUUAFFFFABRRRQAUUUUAFFFFABRRRQAUUUUAFFFFAHmH7afxe8VfAP9kz4h/GPwNHanW/D/AIUvLrR3voi9vDdCMiKWVQQWiRyruuRlVYZGcjgvg78b/E/wR1X43%2BDv2kvjbf8AizQvhFp1j4gl8da3pVlb3kemTaY91cRXEenW8EDtC1tcSKY4VYxTRKwdlLv7z408G%2BFfiL4O1b4feOtAtdV0TXdNn0/WNLvYg8N5azRtHLDIp4ZHRmUjuCa5D4Pfst/Bv4Do3/CtNP16CWbUZL6/vNU8aarqVxqNw9vFbB7ua8uZZLzZBBDHGJ2cQrGojCAUAeBf8Ev/ANuDVv2vPH/xftfEf7QPg3xU2na1pWo%2BHvDXhPWdNvV8NaZeadDMti01kzG5eKQtHNO7yA3CziNljCRr3F/8TvDfjH/gpt4L8GaTpviGG88PfB7xxHfzar4R1GxtJS%2BreEsG2urmCOC9A2nLW7yBcjcRuXPtPhr4Y%2BB/B/jHxJ4/8O6H9n1fxddW1x4hu/tMr/a5Le3S2hbazFY9sUaLhAoOMnJJNeb%2BOP8AlIX8L/8AsjPjz/07eEKAPZq%2BHdO8Tv8A8EpP2ovEmn%2BO9Kmtv2fvi74kXU9F8RwfNa%2BDPEE4xcW1yoH7m2nYBkfhEwBjAkYfcVY/xA%2BH/gr4q%2BCtT%2BHPxG8M2ms6HrFo1tqemX0QeKeJuqkfkQRgggEEEA1wY7CTxCjUpS5akHeL3Wqs011jJaPrs1qkeZmWBqYuMKlCXLVptuDautVZxkt3GS0lbVaSWsVf5p/aa/ZR%2BLvg74qXH7df7AGu2sPji8tIT4x8E3dwBpHjyzjX5AxziK7CcRzggHgEruYt6b%2ByF%2B2r8KP2wPClzdeFludD8VaLKbbxf4E1xfK1TQrtTteOWJgGKbshZQNrdDtYMi/P2iL%2B1P8A8EoTceGrXwRrnxf/AGebeYyaRPpUv2jxJ4Itjy0Dwtj7baR87SpBRQSSgAU9f4k%2BA37Ef/BTfSLP9qD9nL4rPo3jazVRpvxL8AXxs9XsJQuFhvYvlZwAADFOofZwrKpyfGoVqtPESeHjy1Hdzoydk31nTltr1avGX2lCV2/0PJONuH%2BLsFTyXivmoYqjFRpYhR56kIR0VOrFOLxWGj/y7qQk69GPurmh%2B6j9Z0V8b2n7Tn/BQH9jWM6F%2B1/%2Bz7dfFnwnZnbH8VPhRaq975I6SXulEhlYDl3iKxqBxvPJ9v8A2ev25/2Tf2pbSJ/gl8cdD1W9kHz6HLc/ZtRiI6h7SbbMMHIzt2nBwTXr4fNcHXqeyk%2BSp/JNcsvlfSXrFyReb8BcRZVhHjqUFicIv%2BX%2BHl7al5czguak7fZr06Mlqne1z1miiivRPjAooooAKKKKACiiigAooooAKKKKACiiigAooooAKKKKACiiigAooooAKKKKACiiigAooooAKKKKACvGfHH/ACkL%2BF//AGRnx5/6dvCFezV4z44/5SF/C/8A7Iz48/8ATt4QoA9mooooAKKKKACiiigAr83/ANla/s9Z/wCCmWi2F9MFh8HaR8WdadiCQjXXxI1mzHA7nAAA5Oa/SCvzR/4Juf8AFWf8FCvj54g%2B/wD8Il4k1fQ939z7V8RNYvdv44zXk5r7zw9PvVh/5Kpy/RH6BwD%2B5p5xi/8An3gMQvnVlh6K/wDTkl8z9Gf%2BEw0n/n01T/wR3f8A8apf%2BEw0n/n01X/wR3f/AMar528ff8Fkf%2BCb3wv8d618NPHP7Rv2HW/DurXOmaxZf8IhrEv2e6t5Wilj3x2jI%2B10YblJU4yCRzWT/wAPy/8Aglp/0dD/AOWTrf8A8hVUs8yWEnGWJppr%2B/H/ADM6Phb4mYijGrSyTFyjJJprD1Wmmk001CzTTTT6pp9T6f8A%2BEw0n/n01X/wR3f/AMao/wCEw0n/AJ9NV/8ABHd//Gq%2BdvAP/BZH/gm98UPHei/DTwN%2B0b9u1vxFq1tpmj2X/CIaxF9ouriVYoo98loqJud1G5iFGckgc1337f3xg%2BJn7Pv7E3xT%2BOPwbtNNm8T%2BEvA%2Boaro66vMyW6ywQtJvfbHJu2qGYJtw7KELIGLr14XG4PGxcsPUjNLfladvWx8/nnDPEnDFaFLOMFVw0ppuKq0503JJ2bSmk2k9G110PS/%2BEw0n/n01X/wR3f/AMao/wCEw0n/AJ9NV/8ABHd//Gq%2Be9T/AG3Pjb4V%2BIfjnwX8QvgV4E0LT/hl8PLTxN458T3fxUujY273cWqNb21tjRxLOofT4xLK6RFEuC0cczoIpOZ%2BG3/BSrV/irqnhnQ9W%2BE%2Br%2BF9bi%2BNEvg7xDpCy3ltDIh8H6hr8M%2B3WNHtL14XSGJNv2e0kEqBllkhUrcdJ4Z9Vf8ACYaT/wA%2Bmq/%2BCO7/APjVH/CYaT/z6ar/AOCO7/8AjVfPP7JX7fPxJ/aH0/RLjxz%2BzB/wj934s%2BE2i/EHwnpfh7xrDqs91p18wR4JzcQWUVvcQl4mKh5EdHyHDKY66n9qvxZ8VdS%2BLXwv/Z4%2BFvxX1DwI3ja61i61bxXo2m2N1exW9hZCRbaBb%2B3uLdWkmmhZmeJz5UEqrtZhIgB67/wmGk/8%2Bmq/%2BCO7/wDjVH/CYaT/AM%2Bmq/8Agju//jVfO1n%2B0F%2B0j8UP%2BCYvhb9oH4d2Er%2BPdb0DQZ9auPDWirdzRQSXtrFq9/p9nIHE8qWZvLq2t2WXe6RIVlztbi/hr8b/ANoz41/AD4mr4M8Z/G/UNY%2BF3xQm0PR7zQfCfhfSvFPiixbSdO1CJ7qz1%2BzgsrfZ/aRUqsVrKy2yEoHZ4yAfXv8AwmGk/wDPpqv/AII7v/41R/wmGk/8%2Bmq/%2BCO7/wDjVfB97%2B2p%2B1F4p%2BET/HbSfjhYWh%2BG3wB8B%2BOte0bw5oVs2m%2BNdR1WW%2BOowyG9t2u7e2MentFbiFreVJZnMu/YIx7R4z%2BLXj/4RftjwaM37Sur%2BJPC9p4f1jxN8VfDeqaHpi6Z4H0BLeVrG4juLW0julnkuItiRTzTmeKO8kVF8kEAH0P/AMJhpP8Az6ap/wCCO7/%2BNVfsL%2B01O0S%2BsZxJFIMqwBHfBGDyCDkEHkEV8e/8Ezf29br9sb43fFiyv/2g/B/iSxjstD1zwj4P8Natpt1J4a0%2B6juA1rLJaMzzTqEtjcF3kWO5lkjRhGEFfWfg/wD5BM3/AGFL7/0rloA1aKKKACiiigAooooAKKKKACiiigAooooAKKKKACiiigAooooAKKKKACiiigArxn9l/wD5Lf8AtHf9lmsf/UK8L17NXjP7L/8AyW/9o7/ss1j/AOoV4XoA9mooooAKKKKACiiigAooooAKKKKACiiigAooooAKKKKACiiigAooooAKKKKACvGfHH/KQv4X/wDZGfHn/p28IV7NXjPjj/lIX8L/APsjPjz/ANO3hCgD2aiiigAr5u%2BOf/BLr9nP4q%2BN5/jL8N7zX/hZ8QZWLnxp8NtUbTp5nJyTPCv7mcMeXyoZ%2BctX0jRXPicJhcZDkrwUlur9H3T0afmmmcmMwODx9P2eIpqSWqvun3TVmn5pp%2BZ8gQ3H/BYP9mhTZzaT4C/aI8P2x/c3Md0PDfiKSMf3wwNoSB0xuZiDk5NeQfHb4/f8ExPjPfsf%2BCh37DPjP4VeI5JALjxJ4i8DXVs5mz8rR6npuZJ1Bxhm%2BXPbGa/R6mXFvb3cD2t1AksUilZI5FDKwPUEHqK8uvk9SdP2cKvNH%2BWrFVY/e7TX/gTfmPKavE/DOLWKyLM62HqLZ8zenbmjKnUt5OU13TPz3%2BF3grRWiib/AIJ7/wDBbd2t%2Btp4O%2BIGqWHiJFXtCqXDR3FsnphCw9zzXqUfxa/4LE/CVAvjb9lr4X/Fi0iHF54A8ZSaPcyx/wB9o9QUqXxyVTgngV6j8Tf%2BCdX7C3xheW48f/speCLm4nJM17aaHHZ3Mh9WmtxHIT7lq8xP/BGX9l3w4S3wP%2BJnxb%2BGWDmJfAnxLvIFiP8AsiczV5/9mZrhv4On%2BCrJL/wCrGpH7pJH2H/ETOMq%2BmdZZgcx7ylT9jVfrUpKhNt95OT8%2B4P%2BCr0XgkeT%2B0L%2Bwv8AHXwOyf8AHxqLeCjqOmp64ubdzu/BK6DwV/wWC/4Jv%2BOZRa2X7UWj6bcBtstv4isrrTWiburG6iRQR9ce9c//AMMA/tp%2BEOPhF/wVk%2BIVqqf6pPGfhTT9fOPRmm2FvrWB40/ZR/4Kk63CbbxJ8ZP2e/ibGF2hfiL8LWiEg9GFuHA/Cn9Z4jobwcvWEJfjTqxf/kof628BYr/feHMXh33w2Lp1Y/KGIg38uderPp/wZ%2B0r%2Bzn8Rgh%2BH3x98Fa75n3Bo/im0uS308uQ12wIYBlIII4Ir8y/Gf8AwTu/aZ1befHH/BMD9lTxCT98%2BA9a1HQd/wDu/c21xR/YV%2BNvggn/AIRj/gk/4%2B8LIvS7%2BGv7VqLt/wByK4MjfmaP7dzSl/Ewrfoqq/OE1%2BIvr/hLiNsXmOHfargI1UvWWHxH5QP1por8lh4X/bM8C86T4a/bv0fZ0hXxrp/iWKP2VCiZHtmj/hpn/gof4O4tfjJ%2B1hpkadY/Ff7JemX8Tf8Abdbvd%2BIFH%2BtMIfxMPNfj%2BcYh9X8OKv8AB4lpR/6/YTMKP3/7PWS%2B%2Bx%2BtNFfkt/w9B/bx8JcX/wAbIZ9vX/hM/wBnfVbH/vr7GXx%2BFOH/AAXV/ac8M8eLfHv7P06qcBT4S8aWcp%2Bu%2B0ZQf0o/1xyiPxqUfVL/AOSD%2Bx%2BGan8HiTLJf4sVKk/urYWH4tH6z0V%2BVenf8HDPxHgx9r%2BGnwq1n1/s7xvfWG76fa7MY/Gug0n/AIOJNQlwNb/ZJ8Pxr3ks/jrpL59wrxIR9DWkeMOH5f8AL1r/ALdl%2BlzRcK%2B1V6GaZdU/w5lgfynWpv8AA/TSivzotP8Ag4m%2BEcADeIf2edQg/vf2f8QNEusfT/SFzV%2Bx/wCDj39jp5Rb6l8G/iark4P9n2Ol3aj8Uv8A%2Blbrirh574iK9br/ANtNocC8Q1leh7Cp/gxmBl%2BWOR%2BhFFfDmlf8HAn7EGpAGbwb8TrTP/Px4PVsf9%2B52rdsv%2BC6/wDwT8nAN94m8X2I7m68D3vH/fCNW8eIsiltiYff/mkD4C4wvaOEcv8ADOhP/wBIxMz7Gor5Ltv%2BC5H/AATElYJeftFXFm56Ld%2BCtYX9RaEfrWvYf8Fl/wDgmZqOPs/7Vukrn/nvpGoRf%2Bh24rWOeZLLbE0//A4/5j/4h7x5a6yvEP0pTf8A6TzH07RXz3Y/8FXf%2BCc%2BoY%2Bz/td%2BEFz/AM97t4v/AENBWvZf8FJ/2AL/AB5H7ZHw5XP/AD28V20f/obitY5plktq8P8AwOP/AMkY1OBOOKSvPKsSv%2B5ev%2BlJnttFeT2f7eX7DuoYFn%2B2T8K5Cf4V%2BIOm5/Lzs1q2f7XX7KGoY/s/9p74eT56eT41sG/lLWyxuCltVi/%2B3o//ACRwVOGOJqP8TAV4%2BtCsvzoo9DorkLT9oT4B3%2BPsPxw8HzZ6eV4ltW/lJWla/FD4aX2PsPxE0KbPTytXhb%2BTVoq9GW00/mv8ziqZZmdL%2BJQqL1hNfnBG7RVS18QaDff8eWt2k2enlXKt/I1bBBGQcitE09jjlCcHaSa9Vb8wooopkhRRRQAV4z44/wCUhfwv/wCyM%2BPP/Tt4Qr2avGfHH/KQv4X/APZGfHn/AKdvCFAHs1FFFABXiX7W3jL4nDx38KfgV8MfiZf%2BCpPiD4tvrXVvFekWFlc3traWekXt8YrZb6Ce3EsksEILSQyARLNtUMVdPba4741fAb4Y/tBeHrHw18TtK1CaPS9UTUtJvtG1%2B90q/wBPu1jkiE9teWM0NxbuYppomMcilo5pEbKuykA%2BavE/7VH7RXiL/gn98NfiJ4W1y6/4T3xV4xsPDmpSeELHThqmtNFez295JpMWpBrCO4ljtJblRdHyI4fNJYbFavDv2gv%2BCrHxI%2BFH7Ddjomq/tM%2BHvBnxfY%2BK73UNY8anSbXUbOy0bWrm0h097V1FndavKUtrWYWsb2x2X09uSi27P9z6v%2Bxp%2BzrrPwysPg7L4LvrXw7o4006BYaX4n1GyOivYJ5drJYS29wklhIiZBkt2jd9zby245vW37KvwGtfgDffswR%2BBmbwTqlvdxappcurXck16bqZ57qWa6aU3Ms000skskzSGV3kZmYsSaAOl1b4k%2BD9L%2BHh%2BKtrfXOsaGdOS%2Btrrwxplxq73lu6hkkt4bFJZbkMrKy%2BUrlgcjI5r8%2Bf%2BCL4sfFfxR/a0%2BMWmWt7Fba/%2B0jcwWy6npk9lcLHDr99KFlt7hEmgcC5G6ORFdDkMoIIH6R18Tf8EofC7aN4B/aE1%2BZPn1r9tHxxOjkdY4/EghA%2BgaN/zNcGLp%2B0xWHf8spP/wAkkv1PrMgxqweQZxG%2BtWjSp/J4qlN/%2Bm0fbNFfMXj/AP4Ka/8ACBeO9b8C/wDDvn9p7Wv7F1e5sP7Y0D4T/abC/wDJlaPz7aX7SPNhfbvR8DcrKcDNZH/D2H/rGp%2B1p/4Zv/7qrKWdZZGTi6mq/uz/APlZ%2BdS4hyaEnGVXVafDU6af8%2Bj60rF%2BI/w88GfFz4fa58KviNoMWq%2BH/EukXOl65pk7MqXVpcRNFNEShDAMjMMqQRnIIPNfPngH/gpr/wAJ7470XwL/AMO%2Bf2ntF/trV7aw/tjX/hP9msLDzpVj8%2B5l%2B0nyoU3b3fB2qrHBxXs37SfjD4nfDz4BeL/iD8GfDlprPifQdAudS0fRb2F3TUpIEMptQEdCHlVGjRt2Fd1YhgCp68NjMNjIuVGV0t9JL/0qMf1O3B4/B5hFyw8uZLR6SXn9qMfwuY0H7Gv7PC%2BFfFPg7U/CGpavZ%2BNfDdvoPiqXxF4r1PU7rUrCD7T5Mclzd3Mk%2B9Ptc%2BJQ4lG5fn%2BRNud4H/YK/Za%2BHupLrnh/wFqU2pDxcPFEura14x1bUry41caRNowu5ri8upZZ2Gnzy2%2BJGZdpU43IjL4b4j/4KP8AxN%2BJHha58Y/suNoeq2HiPx3NpHwoli8JLqjeINOsNIW61W9ka51vSraGOK78%2BAO1wu0WbgJK0g8vifBv7dXxG%2BLniPRPjxZfabXTvHnwy/Z31WPwo2v3v2HSp/EXi7Xba/kg%2BzTxbnMXkozHKTrawrMksS%2BUek7D7D8MfsnfAjwTY6JYeDvCd7pS%2BHPA1p4O0SbTvEeoQzWmi2rxvBarKk4c7TFHmQsZGAIZ2DMDo/G/9nr4U/tE6Jp%2Bh/FLR9RmGkaib7SL/RPEV9pF9Y3BhlgZ4bywmhuIt0M00ThJAHSRlYFSRXyb8E/2qf2oPjd%2B1J8IPGGp%2BKvCP9ieO/hb4/1vw58PdKur3T2tZLO/0aC2g1aUzXCXUsfmlGuEtojbSPcIsUmcn279t/VvEk%2BmfCj4by%2BKtV8O6R47%2BK9hofjPUvDeu3Gn3UNmdPv7pIIb23aKe38%2B9tbO18yNo5GW4KqVLigD0Nv2evhbF4ET4ZaLYavougQeGrTQbHTPDXinUdLj0%2Bwtf9Qlr9knjNo6DC%2BdCUlKqilyqKBzs37FHwAPw8sfhfptn4v0vS7G/ur0zaD8Tdf06/vrm5YtcTXl9a3sd1fvIxyzXMspYgE8gY8z%2BDGp/tBfFH/gm/450T4U/Ey4l8b2l74%2B8N/DvxhrmpGSaWOw1vVdO0i6mupBIZH8i3tibpxIZCPOYPuOeE/Z6tPip8UZfjf8AJvBfxB03TfC%2BpaBN4P8P%2BOP2gtUg1WLVJ9Paa7sLnX9Ku766hj2pBdCBJrjal0rFEWQRRgH0Hrf7CP7KWvX3hS8ufhOlrH4L0rTtL0LTtJ1i9sbE2NhMJ7G0ubS3mSC%2Bgt5l8yGK5SVInLMgUsxNnwB%2Bxr8CPhd8Zde%2BPXga18WWXiLxRrU%2BreIQfiTrs2n6heywLbtNLp0l61mxWJI0QeTiJYoxGE2Jj5b0HXviD4o/Y7%2BAHxZ1v41eNj4n8PfHmy8M6q%2BneNr%2BO2vF/4TA6VeWV20cwXW4Ikt3torm6Dm4jH2gqrzHH3vQBg6F8MfA/hrx7r/AMT9E0PyNc8UQWUOu332mVvtKWiyLbjYzFE2LLIPkVS275s4GLXg/wD5BM3/AGFb7/0rlrUrL8H/APIJm/7Ct9/6Vy0AalFFFABRRRQAUUUUAFFFFABRRRQAUUUUAFFFFABRRRQAUUUUAFFFFABRRRQAV4z%2By/8A8lv/AGjv%2ByzWP/qFeF69mrxn9l//AJLf%2B0d/2Wax/wDUK8L0AezUUUUAFFFFABRRRQAUUUUAFFFFABRRRQAUUUUAFFFFABRRRQAUUUUAFFePf8FBz45H7DnxYPw3/tP%2B2P8AhAtT%2Bz/2Jv8At2z7O/m/ZvL%2Bfz/K8zy9nz79u35sV4v%2Bxb4s/ZA0PxB8atH%2BCXirwPYfAu/ls28OwaBqFtDoc9xFoqPrjWAiYRtEkP2Vrgw/Ks32gviXzTQB9k14z44/5SF/C/8A7Iz48/8ATt4Qrxz/AIJO%2BJv2YvijrfxM%2BNv7IeoeAtE8CeIX0eHQPhv4EvrMf2dbW63iprV/Y2rbdPvNR8xv3Lqsn2ewtvNAmEsce18ZfFH7X1n/AMFGfAkfgT4GfDbUraH4U%2BN00ObVvitqFlJd2h1PwoZZZ0j0KcW8quIgsSNMrB3JkQoFcA%2Br6K8Z/wCE4/4KF/8ARr/wZ/8AD8at/wDMvR/wnH/BQv8A6Nf%2BDP8A4fjVv/mXoA9morxn/hOP%2BChf/Rr/AMGf/D8at/8AMvR/wnH/AAUL/wCjX/gz/wCH41b/AOZegD2aivnHSf2jv27dY%2BM%2Bv/A63/ZQ%2BEi6p4d8L6Rrt5cv8ddU8iSDUbnUreFEI8Mbi6tpc5YFQAHjwWJYL1H/AAnH/BQv/o1/4M/%2BH41b/wCZegD2aivGf%2BE4/wCChf8A0a/8Gf8Aw/Grf/MvR/wnH/BQv/o1/wCDP/h%2BNW/%2BZegD2aivGf8AhOP%2BChf/AEa/8Gf/AA/Grf8AzL1y/gH9o79u34ieK/G/hDR/2UPhJDceA/FEWharJc/HXVAk88mlafqYeLb4YJKeTqMKksFO9HGMAMwB9HUV4z/wnH/BQv8A6Nf%2BDP8A4fjVv/mXo/4Tj/goX/0a/wDBn/w/Grf/ADL0AezUV4z/AMJx/wAFC/8Ao1/4M/8Ah%2BNW/wDmXo/4Tj/goX/0a/8ABn/w/Grf/MvQB7NQQGBVgCD1Br5x%2BEX7R37dvxl8KXfi/wAOfsofCS2t7PxRrehSR3vx11RXM%2Bl6rdaZO42%2BGGGxprSRkOclGUkKcqOo/wCE4/4KF/8ARr/wZ/8AD8at/wDMvQB6lqHgjwXq%2Bf7V8IaXdZ6/aNPjfP5qaw7/APZ6%2BAWq5/tP4H%2BD7nPXz/DNq%2Bfzjrif%2BE4/4KF/9Gv/AAZ/8Pxq3/zL0f8ACcf8FC/%2BjX/gz/4fjVv/AJl6zlRoz%2BKKfql/kZSoUJ/FBP1Sf5pm9e/sb/shaln%2B0f2VfhvcZ6%2Bf4G098/nDWTef8E%2B/2EL7P2j9jD4V5PUx%2BANOQ/msIqv/AMJx/wAFC/8Ao1/4M/8Ah%2BNW/wDmXrl/gj%2B0d%2B3b8ePgx4Q%2BOPhX9lD4SWul%2BM/C%2Bn67pttqHx11RZ4YLu2juI0kCeGGUOFkAYKzDIOCRzWLwOClvSi/%2B3Y//ImEsuy6fxUIP/tyH/yBuXf/AATM/wCCfN7nzv2Ofh6uf%2BeXhqCP/wBBUVm3X/BKH/gnNeZ839kPweM/88rN0/8AQWFb3/Ccf8FC/wDo1/4M/wDh%2BNW/%2BZej/hOP%2BChf/Rr/AMGf/D8at/8AMvWbyvLJb0If%2BAR/%2BRMZZLk0t8NT/wDBcP8A5E5C5/4I9/8ABNS7z5v7JmgDP/PK7u0/9BmFULj/AIIr/wDBMO6/1n7KmnjP/PPxBqaf%2Bg3Qrvv%2BE4/4KF/9Gv8AwZ/8Pxq3/wAy9cv8bv2jv27fgP8ABjxf8cfFX7KHwkutL8GeF9Q13UrbT/jrqjTzQWltJcSJGH8MKpcrGQoZlGSMkDms3k2TvfD0/wDwCP8AkZPh/IZb4Sl/4Lh/8ic3P/wQ4/4Jb3Byf2XlU%2BsfjLWl/leVUn/4ITf8EwpRiP8AZ9vIv%2BufjXV/63Rr1f8A4Tj/AIKF/wDRr/wZ/wDD8at/8y9H/Ccf8FC/%2BjX/AIM/%2BH41b/5l6h5Fkj/5hqf/AIBH/IlcOcPxd44SmvSEV%2BVjxyf/AIIIf8EypjlPgzq0f%2B54w1A/zmNVJv8Ag3//AOCasv3Pht4gj/3PFt3/AFY17d/wnH/BQv8A6Nf%2BDP8A4fjVv/mXo/4Tj/goX/0a/wDBn/w/Grf/ADL1D4eyJ/8AMLT/APAUbxyjLIfDSS9OZflNHg8v/Bvh/wAE4JPueEvFUf8AueK5v6g1Wl/4N4v%2BCdUn3NL8Zp/u%2BKD/AFjNes/F39o79u34NeFLTxf4j/ZQ%2BElzb3nijRNCjjsvjrqjOJ9U1W10yBzu8MKNizXcbOc5CKxAY4U9R/wnH/BQv/o1/wCDP/h%2BNW/%2BZeofDeQP/mFh/wCA/wDBN44LDw%2BHmXpUqr8qyPnaX/g3W/4J5yfcbx2n%2B74mT%2BsBqL/iHT/YHjObPxL8SLf/AK4%2BJ4B/O2NfR3/Ccf8ABQv/AKNf%2BDP/AIfjVv8A5l6P%2BE4/4KF/9Gv/AAZ/8Pxq3/zL0v8AVnh7/oFh93/BNlSa2qVF/wBxq/8A80HzrH/wb0fsZ2//AB5fF74v2%2BOnk%2BLrYf8AtnViH/ggP%2BzDa/8AHl%2B0l8dIPTyfHFsuP/JKvoL/AITj/goX/wBGv/Bn/wAPxq3/AMy9cv4%2B/aO/bt%2BHfivwR4Q1j9lD4STXHjzxRLoWlSW3x11QpBPHpWoamXl3eGAQnk6dMoKhjvdBjBLKLhrIFtho/j/8kTLDqW86n/g6v/8ANB5jb/8ABC74I2f/AB4/ti/tEwf9cfiJbr/7ZVeh/wCCLHgC0GLH9vL9pqHH9z4nxD%2BVmK9o/wCE4/4KF/8ARr/wZ/8AD8at/wDMvR/wnH/BQv8A6Nf%2BDP8A4fjVv/mXq1w9kq2oL75//JnPPLMJU%2BLnf/cWv/8ALzyCL/gj3YWv/Hl/wUZ/aji9NvxUA/lbCk%2BBX7JN1%2Byz/wAFCvBq3H7TfxU%2BIy658GfGWwfEzxYdU/s7ydW8LZ%2BzZRfK8zzRv67vKj/u17B/wnH/AAUL/wCjX/gz/wCH41b/AOZeqHgfwP8AtWeMf2rPDnxu%2BN3w4%2BHvhnRvDPw98Q6HDD4V%2BId9rV1d3WpX2iXCMyXGkWKRRomlygsHdi0qALjJHRh8py7C1VUpU7SXnN/g5tfgKjlWBw9ZVYRfMu86j/CVSS/BnutFFFeiegFFFFABRRRQAV85fsQ%2BGdO8L/s8eLLyx8wi9/aG8f6nfOwzg/8ACeapvbgdFSMfgtfRtfJX7JXiz9s7T/h74os/hj8A/hhq%2BhJ8afiL/Z%2Bo698XdR027mX/AITPWSxktotAuUiIbcABM%2BQAcgnaE0m0%2Bxcak4wlBPSVr%2Bdndfc9T6g/4TnwT/0OGl/%2BDCP/AOKpf%2BE58E/9DhpX/gwj/wDiq8t/4Tj/AIKF/wDRr/wZ/wDD8at/8y9H/Ccf8FC/%2BjX/AIM/%2BH41b/5l6ZB6l/wnPgn/AKHDSv8AwYR//FUf8Jz4J/6HDSv/AAYR/wDxVeW/8Jx/wUL/AOjX/gz/AOH41b/5l6P%2BE4/4KF/9Gv8AwZ/8Pxq3/wAy9AGpffAz9ijVPhxpPwd1P4O/C248I6Be/bNC8Kz%2BHtNfTdNud0jedBbFPKhk3Syneig5kc5%2BY50NP%2BHH7KOk2trZaV4D%2BHttDZWmk2llDb6XYotvBpc8lxpkSAKAiWk8sstuowIJJHeMKzEnzP4I/tHft2/Hj4MeEPjj4V/ZQ%2BElrpfjPwvp%2Bu6bbah8ddUWeGC7to7iNJAnhhlDhZAGCswyDgkc11H/AAnH/BQv/o1/4M/%2BH41b/wCZegDVsfgf%2BxVpfinW/HOmfCD4XW%2Bt%2BJYLqHxHrEHh/TUutVjusfaUuZQm%2BdZdq%2BYHJD4G7OK6DxvpXwA%2BJngi5%2BGXxI03wd4g8N3kKRXfh7XIbS7sZ40ZWRHglDRsqsqkArgFQR0FcV/wnH/BQv8A6Nf%2BDP8A4fjVv/mXo/4Tj/goX/0a/wDBn/w/Grf/ADL0AdXH4O/Zmi0Kz8LxeFfAi6Zp3h240DT9OWxshBa6TcCET6fHHjalrILeAPAAI3EEeVOxcYUn7Pn7DM3wti%2BBs3wQ%2BE7%2BCYL/AO3QeD28NaYdKjusk%2Betp5fkiTLN84Xd8x55rifjd%2B0d%2B3b8B/gx4v8Ajj4q/ZQ%2BEl1pfgzwvqGu6lbaf8ddUaeaC0tpLiRIw/hhVLlYyFDMoyRkgc11H/Ccf8FC/wDo1/4M/wDh%2BNW/%2BZegC18Qv2cv2D/i54X0DwP8V/gR8I/E%2Bi%2BFITF4X0fxD4X0u9tdHjIQFLWKaNkt1IjjGIwoxGv90Y9Ds/Fvw%2B06zi0/T/E2jQW8EaxwQQ3sSpGijCqqg4AAAAA6V5l/wnH/AAUL/wCjX/gz/wCH41b/AOZej/hOP%2BChf/Rr/wAGf/D8at/8y9AHqP8AwnPgn/ocNL/8GEf/AMVR4MO/QzOoOya%2Bu5YiRjcj3MjK30KkEexry7/hOP8AgoX/ANGv/Bn/AMPxq3/zL1y/xd/aO/bt%2BDXhS08X%2BI/2UPhJc2954o0TQo47L466ozifVNVtdMgc7vDCjYs13GznOQisQGOFIB9HUV4z/wAJx/wUL/6Nf%2BDP/h%2BNW/8AmXo/4Tj/AIKF/wDRr/wZ/wDD8at/8y9AHs1FeM/8Jx/wUL/6Nf8Agz/4fjVv/mXo/wCE4/4KF/8ARr/wZ/8AD8at/wDMvQB7NRXzj4%2B/aO/bt%2BHfivwR4Q1j9lD4STXHjzxRLoWlSW3x11QpBPHpWoamXl3eGAQnk6dMoKhjvdBjBLL1H/Ccf8FC/wDo1/4M/wDh%2BNW/%2BZegD2aivGf%2BE4/4KF/9Gv8AwZ/8Pxq3/wAy9H/Ccf8ABQv/AKNf%2BDP/AIfjVv8A5l6APZqK8Z/4Tj/goX/0a/8ABn/w/Grf/MvXL6t%2B0d%2B3bo/xn0D4HXH7KHwkbVPEXhfV9ds7lPjrqnkRwadc6bbzI5PhjcHZtUgKgKQQkmSpChgD6Oorxn/hOP8AgoX/ANGv/Bn/AMPxq3/zL0f8Jx/wUL/6Nf8Agz/4fjVv/mXoA9morxn/AITj/goX/wBGv/Bn/wAPxq3/AMy9H/Ccf8FC/wDo1/4M/wDh%2BNW/%2BZegD2aivnHSf2jv27dY%2BM%2Bv/A63/ZQ%2BEi6p4d8L6Rrt5cv8ddU8iSDUbnUreFEI8Mbi6tpc5YFQAHjwWJYL1H/Ccf8ABQv/AKNf%2BDP/AIfjVv8A5l6APZqK8Z/4Tj/goX/0a/8ABn/w/Grf/MvR/wAJx/wUL/6Nf%2BDP/h%2BNW/8AmXoA9morxn/hOP8AgoX/ANGv/Bn/AMPxq3/zL1y/gH9o79u34ieK/G/hDR/2UPhJDceA/FEWharJc/HXVAk88mlafqYeLb4YJKeTqMKksFO9HGMAMwB9HUV4z/wnH/BQv/o1/wCDP/h%2BNW/%2BZej/AITj/goX/wBGv/Bn/wAPxq3/AMy9AHs1eM/sv/8AJb/2jv8Ass1j/wCoV4Xo/wCE4/4KF/8ARr/wZ/8AD8at/wDMvVv9lb4c/GnwfrHxQ8d/HTQPC%2Bk6p4%2B%2BIUWuWeleE/Etzq1va2sWg6Ppiq9xcWVmzSNJp0rlRFtCyINzHOAD1uiiigAooooAKKKKACiiigAooooAKKKKACiiigAooooAKKKKACiiigAooooAK%2BV9W/a0%2BLkP7SM2uL4d8Ht8PNI%2BMFt8Lmik0i4Ovm4vNPtbhtQjvPtHlJB9ult7drT7OSyQ%2Bf54IWGvqivGbz9iH4cXnx%2Bb46v458VLbS%2BK4fFVz4FS6tf7En1%2BLTl06PVGU2/2nzVt0jHlC4FuZIkmMJlHmUAezUUUUAFFFFAHzH4c/aW%2BJkP/AAUA8UfB/wCI2seHvCfhtdftNF8GRaj8ItZS68Ywf2BBqOIPEbXa6c0sd3c6gBaCF5fLtJgFBZpF%2BnK8r8WfstQeP/jJpHxT8e/G/wAa6vpXh7XY9a0DwBcHTItGsdQjt3gjnDQ2SXsuzzJJFSa6kjEj7tnyIF9UoAKKKKAPF/8AgoL8Xfjh%2Bz9%2ByP40%2BPXwCvfCkeseCdCu9cuoPGGi3N9bXdpa20sz26JbXVsySuyIokLlUBYlH4Fef%2BPP2tPi54L%2BPHi3U/Cnh3whF8PPCHxj8I/D7xlZzaRcHW9V1XXYNFSPUIbtLhYY44P7c0mMxSW8ryJDPiWPagr2H9rH9nGy/a0%2BBGvfs%2B618VfFPhHSfE9lLY65f%2BEF077Xc2UsTxTW26/tLqNEdX5ZEWQFRtdec8XB%2BwD4On%2BItn8RfFXxx8fa6x1nSdc8TaNqEulRWPifXNMSNLHVr2O2sImW4iEFphbZoIGNjbF4mMeSAe90UUUAFeL/ALZPxd%2BOHwStfAPjH4WXvhT%2BxtQ%2BJnhzw94vsfEGi3NzdXNrqus2Omg2csN1CltJGtzLJvkSdSURdnJNe0V5V%2B1d%2By2/7VXhvQvC8/x98b%2BBrfQvElhrqN4Lh0dnu72xvILyzaU6lp94NsVxbxuFjCBuVk3qdoAPOP2ef2lfiZrf7Vfi34I/FDV/D3hPTofFOt2/gnwlJ8ItZ0y5162hdJTf2%2Bt3F39g1B2MksssVtAXGS7FcMT9OV5LpP7KIf4yaL8ZfiP%2B0B478azeF7u8u/CeheIRpMNho91c28lrJcRLYafbSyv9nmnhXz5JVRZ32gEgj1qgAooooA8H/a1%2BM37QXwG8SeF/F3gzxB4IvfD2teLtC8O23gW%2B8OXkmua5c3t8sNy1pex3qxQmC1aS62NaTDy7SZneNAXj4/8AYl/a0%2BLnxU174caZ4/8ADvhCy8L/ABf%2BDlx8Qfhlp/hbSLi0m0DSrafS0Gn3rSXEsdzJ9n1rTmEsMduitHOnlEBWr0L4k/scr8RP2ndE/amt/wBo74gaFqvh/QxpWmaBpkOiXGlwQPN5ty0aX2mXE0MtyBHHNLFKjtHDGisgHJ%2Bzz%2BxD8OP2cfF0Xirw3448Va1HpPh6Xw94K0jxBdWr2vhLRZLhLh9OsBBbxSeSXhthm4eeUJaQIJAqAUAezUUUUAFfL/7XPx4/aX%2BC3xE0/wAKaVD4A8a6P45h1q20X4cxeD76TWEtbTQ7q7kv7icXrxXVsLqK3tpIRaxA/b4UExkZEk%2BoK8Om/YmuI/2j/Ff7TWiftV/EvTtX8W6bDp1zpcMHh%2Be00%2BzhgaOG2s2udJlubeJZXe62LNtedy7hwdtADP2EP2hPG/x8%2BHl5dfFfx9o194u04Wba/wCG7L4Xav4RvNAee2WUQXNjq91PcOC2/wAu4AjjkVDtDbSa90rzf4Hfs3ad8GfE/iT4h6x8UvFPjjxV4risbfWPE/i5rBbl7SzE32W1SLT7W1to4o2ublxthDM1xIWZsjHpFABRRRQB8UftMftw/H74HfH2/wDgPqOm%2BEPFo1h7JPCX9o/DPV9FttH1G98Q6HpmkM95d3ktv4gSOXWIZbhtPETW7Wnz%2BS0qKvv/AOyr8X/iR8Rh4/8Ah98Yjok/ir4aePG8NazqvhrTprOw1PzNL07Vre4ht5p55LfNrqlujxtNLiSOTDEEY5b4l/8ABPPwb8bdeuPEHxt%2BPnxF8VPbR3H/AAh0N/c6VbJ4RuJLq3uo7uwNnYQs9xDLaWxiku2uSnld977/AEf4B/AXQ/gH4e1bTbLxfrniTVvEWvTa14n8UeJXtjf6vfSRxQ%2BdMLWCCBdkEFvAiRRRoscEaheCSAd1RRRQAV8TftRftj/tYfB34zeKPhX4P8NeHPG%2Bq6X4Yv8AxD4SjT4J6/DJpDpd6fbwrC5vXXxNJ9k1OdZhpflPC0RWQR%2BcIx9s14jrX7F%2Bo%2BIvH7fE/XP2tPihc63YW97D4Nu3TQQvhVbuaF5zaRjSgk7NHCkAa9F0ViLgEM7OQDpf2VPi3N8ZfhSPE2o/E7RvFOo2uq3Njq11o/gi/wDDZs7iJvmtZ9M1G4nurSdFK7kmYMQyttVWFek1wnwD%2BAegfAHQtZsdP8W654j1XxN4gl1zxP4m8SS27Xuq38kMMHmyC2hhgjCwW9vCqRRRoqQoAuck93QAUUUUAFFFFABRRRQAUUUUAUfFHiGw8JeGtR8V6qHNrpljNd3IiXLeXGhdsDucKa%2Bc/wBib9pP41%2BP/FOj%2BDPjZ4e8GWY8dfC2y%2BI3hmHwZpVxaDTI7y4Ju9PuzNcSi7mje5tn%2B2IIBO0sxMEe0F/pa7tLW/tZbG9t0mhmjaOaKVQyupGCpB4II4xXkP7M37FfgL9mDVX1fQPiD4t8Sy23hix8M%2BHR4svbWYaBoVm8j2%2Bm2pt7eEtGpk%2BaWczXEgji8yZ/LXAB7FRRRQAVwv7UHjz4i/Cz9mj4ifE74P8AhRde8W%2BHPAur6p4W0NrGa6Go6jb2csttbGGBllmEkqInlxsHbdhSCQa7qs7xbol/4l8Mah4f0vxXqOhXN7aSQ2%2BtaQsDXVi7KQJohcRSxF1PIEkbpkfMrDIIB5d%2BxT8Wp/ij8M76y1b4haBrOp%2BHdUXTrzTNE%2BGGqeDn0NBbQSRWdxpWqXM9zC4RxIrt5aPFLFsTA3v7FXnnwH/Z20n4HXniXxHc/ETxJ4x8SeL9RhvPEXinxW9mLu6MNulvBEI7G2traKKONAFWOFMlnZizMzH0OgAooooA%2BXP2qP2sfih%2Bzh8XvHFl8StG8JeIvhfYfs7%2BL/HttoVvolwmqu2iDS1ntri5kuXt5op1vpwEFshUImXfLCu3/Zn%2BL/x81T4ueMv2df2ln8JXnijwx4Y8PeJY9V8FaTc2NlJZas%2BpW62xhubm5cyw3GkXYMokCyI8TeXGdy1B8Y/2FfDvx0%2BOrfGXx58dvHMumzeCtT8I33w9hg0X%2BxLvRtSW2%2B32khfTWvSJ2tIHZxdB1KEIyIzIek/Z3/Zd0P8AZ9vta8Rz/FDxb438Q6/a2Flf%2BJ/G1zaSXpsLFJFs7MfZLa3j8qIz3DglDI73Mru7s2aAPT6KKKACvkT41/tL/tbeC9c/aA8C2/hXwZ4svfAXh/wp4k%2BG1jpPw/1O/nWPUdV1KEJd2sV48uozwLpsc6m2FuS5IVflVq%2Bu68Ll/Yo8QxfHTxt8f9C/bQ%2BK2lat430ix0y5sbKz8MNaabbWVxcz2aWwl0V5P3RvLpQZnlLrORJ5hVCoB1f7Knxbm%2BMvwpHibUfido3inUbXVbmx1a60fwRf%2BGzZ3ETfNaz6ZqNxPdWk6KV3JMwYhlbaqsK9JrhPgH8A9A%2BAOhazY6f4t1zxHqvibxBLrnifxN4klt2vdVv5IYYPNkFtDDBGFgt7eFUiijRUhQBc5J7ugAooooA%2BNv2lv2u/2lv2ePjNB8NtZT4Z%2BNb7W4IJvCMOneFr20l8F3mpeIdM8PaRNqcr30wuop21ecFols5HFjdLGGXzDF7j%2Byr8X/iR8Rh4/wDh98Yjok/ir4aePG8NazqvhrTprOw1PzNL07Vre4ht5p55LfNrqlujxtNLiSOTDEEY4W2/4Jq%2BEmuviG/iH9pf4nazb/EnXjrmsW%2BpHQvMs9SiuIZ9Puba6i0tLpTYPb24tI3mkiiWFAyPzn1j4B/AXQ/gH4e1bTbLxfrniTVvEWvTa14n8UeJXtjf6vfSRxQ%2BdMLWCCBdkEFvAiRRRoscEaheCSAd1RRRQAy5%2B0/ZpPsezzth8rzc7d2OM45xmviD4rftc/tp/DT4ia58Nre28B%2BM9e8MXvhq31bx14I%2BCuv6tH4ct9Wa8e9sJdKs9Snu7maOGysbomKdP3d1C0sCAxNJ9vXcMlxay28N1JA8kbKs8QUvGSMBl3ArkdRkEeoNfPfwY/YC8QfAT4bXHw0%2BHf7dXxiijutWfU5tZvLLwnPqEt3K8slzPNM%2BhH7TJO8u6SScSPmNNhQDBAPWfgJ8Q7L4rfB3w/8AEKw%2BIGjeKk1PTxI%2Bv%2BH9JmsLS7kBKyFLWeaaW2KurI0MkjvGysrHcpA6%2BuS%2BBfwX8Jfs%2B/C/TvhT4Kub%2B4srCW6uJr7VbkTXV9d3VzLdXV1M4VQ0s1xPNK%2B1VXdIdqquFHW0AFUfE8PiS58N6hb%2BDdTsbLV5LKVdLvNTsHuraC4KERySwxyxNNGrYLIskZYAgOpO4XqzfGOg3/ijwtf%2BHdL8W6loNzeWrxQa1o4gN1YuRxNELiKWIup5AkjdDj5lYZFAHxN8Kf24P2svjd8XL/4AfCux%2BH8PjlH1uceNvFfwt1rRI9Q0nSLTRZPs02hXd%2Bmo2MrXniOKOOSeYoYVluI4nWVQfrb9mz4zaf8AtHfs6eAf2htK0iTT7Xx54K0rxFbWE0m57aO9s4rlYmbAyVEoUnAzivItQ/4JqeDtR1u6%2BJD/ALS3xSh%2BImoT3K6l8T7W80iLWLqxntILWXTvLXTRZRWxjtbZgIraORZYVlEgky597%2BH3gPwn8LPAWifDHwHo8enaH4c0i20vRdPiJKW1pbxLFDEucnCoiqM%2BlAGvRRRQBy/xp1Hxxo3wt1rW/hz4hsdL1awszdQ32oeD73xAiRxkPKBp1jPBc3kjRK6pFDIHLsuFc/I3xb8Nf%2BCiPx%2B1zxD4e13xhceEfAng3U5dR/4Sjx5e/AzxFcWuo3trrsmkxfamS%2BjXwzLLa20RMWqM8luxEb/c2V9t/EzwZrvj3wlN4c8N/FLX/Bt5JLG8Wv8AhmKxe7g2sCVVb%2B2uYGDAFSHibgnGDgjxXUP%2BCc3hTV/AN78KNU/aQ%2BJtx4X8R3N3c/ELQ3uNH2eMp7u5ee7kvpRponh84OIWjspLWMQoqKigEkA%2BiaKKKACiiigAooooAKKKKACiiigAooooAKKKKACiiigAooooAKKKKACiiigAooooAKKKKACiiigAooooAKKKKACiiigAooooAKKKKACiiigAooooAKKKKACiiigAooooAKKKKACiiigAooooAKKKKACiiigAooooAKKKKACiiigAooooAKKKKACiiigAooooAKKKKACiiigAooooAKKKKACiiigAooooAKKKKACiiigAooooAKKKKACiiigAooooAKKKKACiiigAooooAKKKKACiiigAooooAKKKKACiiigAooooAKKKKACiiigAooooAKKKKAP/2Q%3D%3D\">"
      ]
     },
     "metadata": {},
     "output_type": "display_data"
    }
   ],
   "source": [
    "s.run(tf.global_variables_initializer())\n",
    "\n",
    "BATCH_SIZE = 512\n",
    "EPOCHS = 40\n",
    "\n",
    "# for logging the progress right here in Jupyter (for those who don't have TensorBoard)\n",
    "simpleTrainingCurves = matplotlib_utils.SimpleTrainingCurves(\"cross-entropy\", \"accuracy\")\n",
    "\n",
    "for epoch in range(EPOCHS):  # we finish an epoch when we've looked at all training samples\n",
    "    \n",
    "    batch_losses = []\n",
    "    for batch_start in range(0, X_train_flat.shape[0], BATCH_SIZE):  # data is already shuffled\n",
    "        _, batch_loss = s.run([step, loss], {input_X: X_train_flat[batch_start:batch_start+BATCH_SIZE], \n",
    "                                             input_y: y_train_oh[batch_start:batch_start+BATCH_SIZE]})\n",
    "        # collect batch losses, this is almost free as we need a forward pass for backprop anyway\n",
    "        batch_losses.append(batch_loss)\n",
    "    train_loss = np.mean(batch_losses)\n",
    "    val_loss = s.run(loss, {input_X: X_val_flat, input_y: y_val_oh})  # this part is usually small\n",
    "    train_accuracy = accuracy_score(y_train, s.run(classes, {input_X: X_train_flat}))  # this is slow and usually skipped\n",
    "    valid_accuracy = accuracy_score(y_val, s.run(classes, {input_X: X_val_flat}))  \n",
    "    simpleTrainingCurves.add(train_loss, val_loss, train_accuracy, valid_accuracy)"
   ]
  },
  {
   "cell_type": "markdown",
   "metadata": {},
   "source": [
    "# Submit a linear model"
   ]
  },
  {
   "cell_type": "code",
   "execution_count": 312,
   "metadata": {
    "collapsed": true
   },
   "outputs": [],
   "source": [
    "## GRADED PART, DO NOT CHANGE!\n",
    "# Testing shapes \n",
    "grader.set_answer(\"9XaAS\", grading_utils.get_tensors_shapes_string([W, b, input_X, input_y, logits, probas, classes]))\n",
    "# Validation loss\n",
    "grader.set_answer(\"vmogZ\", s.run(loss, {input_X: X_val_flat, input_y: y_val_oh}))\n",
    "# Validation accuracy\n",
    "grader.set_answer(\"RMv95\", accuracy_score(y_val, s.run(classes, {input_X: X_val_flat})))"
   ]
  },
  {
   "cell_type": "code",
   "execution_count": null,
   "metadata": {
    "collapsed": true
   },
   "outputs": [],
   "source": [
    "# you can make submission with answers so far to check yourself at this stage\n",
    "grader.submit(COURSERA_EMAIL, COURSERA_TOKEN)"
   ]
  },
  {
   "cell_type": "markdown",
   "metadata": {},
   "source": [
    "# Adding more layers"
   ]
  },
  {
   "cell_type": "markdown",
   "metadata": {},
   "source": [
    "Let's add a couple of hidden layers and see how that improves our validation accuracy.\n",
    "\n",
    "Previously we've coded a dense layer with matrix multiplication by hand. \n",
    "But this is not convinient, you have to create a lot of variables and your code becomes a mess. \n",
    "In TensorFlow there's an easier way to make a dense layer:\n",
    "```python\n",
    "hidden1 = tf.layers.dense(inputs, 256, activation=tf.nn.sigmoid)\n",
    "```\n",
    "\n",
    "That will create all the necessary variables automatically.\n",
    "Here you can also choose an activation function (rememeber that we need it for a hidden layer!).\n",
    "\n",
    "Now add 2 hidden layers to the code above and restart training.\n",
    "You're aiming for ~0.97 validation accuracy here."
   ]
  },
  {
   "cell_type": "code",
   "execution_count": null,
   "metadata": {
    "collapsed": true
   },
   "outputs": [],
   "source": [
    "# you can write the code here to get a new `step` operation and then run cells with training loop above\n",
    "# name your variables in the same way (e.g. logits, probas, classes, etc) for safety\n",
    "### YOUR CODE HERE ###\n",
    "hidden1 = tf.layers.dense(input_X,256,activation=tf.nn.sigmoid)\n",
    "hidden2 = tf.layers.dense(hidden1,256,activation=tf.nn.sigmoid)\n",
    "logits  = tf.layers.dense(hidden2,10)\n",
    "probas  = tf.nn.softmax(logits)\n",
    "classes = tf.argmax(probas,1)\n",
    "loss = tf.reduce_mean(tf.nn.softmax_cross_entropy_with_logits(logits=logits, labels=input_y)) \n",
    "step = tf.train.AdamOptimizer().minimize(loss)\n",
    "s.run(tf.global_variables_initializer())\n",
    "BATCH_SIZE = 512\n",
    "EPOCHS = 40\n",
    "\n",
    "# for logging the progress right here in Jupyter (for those who don't have TensorBoard)\n",
    "simpleTrainingCurves = matplotlib_utils.SimpleTrainingCurves(\"cross-entropy\", \"accuracy\")\n",
    "\n",
    "for epoch in range(EPOCHS):  # we finish an epoch when we've looked at all training samples\n",
    "    \n",
    "    batch_losses = []\n",
    "    for batch_start in range(0, X_train_flat.shape[0], BATCH_SIZE):  # data is already shuffled\n",
    "        _, batch_loss = s.run([step, loss], {input_X: X_train_flat[batch_start:batch_start+BATCH_SIZE], \n",
    "                                             input_y: y_train_oh[batch_start:batch_start+BATCH_SIZE]})\n",
    "        # collect batch losses, this is almost free as we need a forward pass for backprop anyway\n",
    "        batch_losses.append(batch_loss)\n",
    "    train_loss = np.mean(batch_losses)\n",
    "    val_loss = s.run(loss, {input_X: X_val_flat, input_y: y_val_oh})  # this part is usually small\n",
    "    train_accuracy = accuracy_score(y_train, s.run(classes, {input_X: X_train_flat}))  # this is slow and usually skipped\n",
    "    valid_accuracy = accuracy_score(y_val, s.run(classes, {input_X: X_val_flat}))  \n",
    "    simpleTrainingCurves.add(train_loss, val_loss, train_accuracy, valid_accuracy)\n"
   ]
  },
  {
   "cell_type": "markdown",
   "metadata": {},
   "source": [
    "# Submit a 2-layer MLP\n",
    "Run these cells after training a 2-layer MLP"
   ]
  },
  {
   "cell_type": "code",
   "execution_count": null,
   "metadata": {
    "collapsed": true
   },
   "outputs": [],
   "source": [
    "## GRADED PART, DO NOT CHANGE!\n",
    "# Validation loss for MLP\n",
    "grader.set_answer(\"i8bgs\", s.run(loss, {input_X: X_val_flat, input_y: y_val_oh}))\n",
    "# Validation accuracy for MLP\n",
    "grader.set_answer(\"rE763\", accuracy_score(y_val, s.run(classes, {input_X: X_val_flat})))"
   ]
  },
  {
   "cell_type": "code",
   "execution_count": null,
   "metadata": {
    "collapsed": true
   },
   "outputs": [],
   "source": [
    "# you can make submission with answers so far to check yourself at this stage\n",
    "grader.submit(COURSERA_EMAIL, COURSERA_TOKEN)"
   ]
  },
  {
   "cell_type": "code",
   "execution_count": null,
   "metadata": {
    "collapsed": true
   },
   "outputs": [],
   "source": []
  },
  {
   "cell_type": "code",
   "execution_count": null,
   "metadata": {
    "collapsed": true
   },
   "outputs": [],
   "source": []
  },
  {
   "cell_type": "code",
   "execution_count": null,
   "metadata": {
    "collapsed": true
   },
   "outputs": [],
   "source": []
  }
 ],
 "metadata": {
  "kernelspec": {
   "display_name": "Python 3",
   "language": "python",
   "name": "python3"
  },
  "language_info": {
   "codemirror_mode": {
    "name": "ipython",
    "version": 3
   },
   "file_extension": ".py",
   "mimetype": "text/x-python",
   "name": "python",
   "nbconvert_exporter": "python",
   "pygments_lexer": "ipython3",
   "version": "3.6.2"
  }
 },
 "nbformat": 4,
 "nbformat_minor": 1
}
